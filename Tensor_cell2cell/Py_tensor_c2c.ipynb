{
 "cells": [
  {
   "cell_type": "code",
   "execution_count": 1,
   "id": "8e88a2eb-7dd7-4195-9cb1-475b6f15919f",
   "metadata": {},
   "outputs": [],
   "source": [
    "# python libs\n",
    "import numpy as np\n",
    "import pandas as pd\n",
    "import matplotlib.pyplot as plt\n",
    "import seaborn as sns\n",
    "\n",
    "import scanpy as sc\n",
    "import liana as li\n",
    "import decoupler as dc\n",
    "\n",
    "import session_info"
   ]
  },
  {
   "cell_type": "code",
   "execution_count": 2,
   "id": "ce057bd2-1c21-4a49-aac2-02adf6400570",
   "metadata": {},
   "outputs": [
    {
     "name": "stderr",
     "output_type": "stream",
     "text": [
      "/nfs/team283/yd2/software/my_miniconda3/envs/liana/lib/python3.8/site-packages/tqdm/auto.py:21: TqdmWarning: IProgress not found. Please update jupyter and ipywidgets. See https://ipywidgets.readthedocs.io/en/stable/user_install.html\n"
     ]
    }
   ],
   "source": [
    "import cell2cell as c2c"
   ]
  },
  {
   "cell_type": "code",
   "execution_count": 3,
   "id": "dc2bcd7b-3df0-465e-a734-5145c66853e6",
   "metadata": {},
   "outputs": [],
   "source": [
    "# import liana's rank_aggregate\n",
    "from liana.mt import rank_aggregate"
   ]
  },
  {
   "cell_type": "code",
   "execution_count": 4,
   "id": "0af4e149-1652-4ee9-aed5-3da883229234",
   "metadata": {},
   "outputs": [],
   "source": [
    "# import all individual methods\n",
    "from liana.method import singlecellsignalr, connectome, cellphonedb, natmi, logfc, cellchat, geometric_mean"
   ]
  },
  {
   "cell_type": "code",
   "execution_count": null,
   "id": "27742583-0f67-4838-b8f7-0a2514fe6e27",
   "metadata": {},
   "outputs": [],
   "source": [
    "import torch\n",
    "\n",
    "# Check if CUDA is available\n",
    "if torch.cuda.is_available():\n",
    "    # Create a tensor and move it to the GPU\n",
    "    tensor = torch.tensor([1.0, 2.0, 3.0]).cuda()\n",
    "    print(\"Tensor on GPU:\", tensor)\n",
    "    \n",
    "    # Perform a simple operation\n",
    "    result = tensor * 2\n",
    "    print(\"Result:\", result)\n",
    "else:\n",
    "    print(\"CUDA is not available.\")\n"
   ]
  },
  {
   "cell_type": "code",
   "execution_count": null,
   "id": "34534fbd-8b7a-4e9d-bff4-4de7d1650fe5",
   "metadata": {},
   "outputs": [],
   "source": [
    "adata=sc.read_h5ad(\"/nfs/team283/yd2/WE_n3_scRNAseq_filt_cells_filt_genes_raw_counts_with_QC_and_annots_lvl5_20240404.h5ad\")"
   ]
  },
  {
   "cell_type": "code",
   "execution_count": null,
   "id": "9411162f-e86d-4261-9313-f3a0a6d62ef4",
   "metadata": {},
   "outputs": [],
   "source": [
    "subtypes = ['meningeal fibroblast', \n",
    "            'mural PDGFRB+RGS5+',\n",
    "            'dermal fibroblast FRZB+',\n",
    "            'fibroblast progenitors PDGFRA+ZIC1+',\n",
    "            'early endothelium',\n",
    "            'mural PDGFRB+RGS5+KNCJ8+',\n",
    "            'dermal fibroblast FRZB+FOXF1+',\n",
    "            'dermal fibroblast FRZB+SIX2+',\n",
    "            'hepatic stellate cell',\n",
    "            'hepatocyte',\n",
    "            'early endothelium liver',\n",
    "            'megakaryocyte erythroid mast progenitor']"
   ]
  },
  {
   "cell_type": "code",
   "execution_count": null,
   "id": "6fa626ab-c936-47fb-8b7e-790f953f4816",
   "metadata": {},
   "outputs": [],
   "source": [
    "sas = adata[adata.obs.cell_type_lvl5.isin(subtypes), :]"
   ]
  },
  {
   "cell_type": "code",
   "execution_count": null,
   "id": "cd32f5b3-f7b9-4c01-b32e-029aecd9a394",
   "metadata": {},
   "outputs": [],
   "source": [
    "# basic filters\n",
    "sc.pp.filter_cells(sas, min_genes=200)\n",
    "sc.pp.filter_genes(sas, min_cells=3)"
   ]
  },
  {
   "cell_type": "code",
   "execution_count": null,
   "id": "09b32886-de5b-403f-a4ec-5159662acf15",
   "metadata": {},
   "outputs": [],
   "source": [
    "# filter low quality cells with standard QC metrics\n",
    "sas.var['mt'] = sas.var_names.str.startswith('MT-')  # annotate the group of mitochondrial genes as 'mt'\n",
    "sc.pp.calculate_qc_metrics(sas,\n",
    "                           qc_vars=['mt'],\n",
    "                           percent_top=None,\n",
    "                           log1p=False,\n",
    "                           inplace=True)\n",
    "sas = sas[sas.obs.pct_counts_mt < 15, :]"
   ]
  },
  {
   "cell_type": "code",
   "execution_count": null,
   "id": "9f4acff1-02ee-4945-b698-c8067db7a898",
   "metadata": {},
   "outputs": [],
   "source": [
    "sas = sas[sas.obs.n_genes < 5500, :]"
   ]
  },
  {
   "cell_type": "code",
   "execution_count": null,
   "id": "fc469bc6-859e-4c16-b4bc-1ca1646b9ce2",
   "metadata": {},
   "outputs": [],
   "source": [
    "# log1p normalize the data\n",
    "sc.pp.normalize_total(sas)\n",
    "sc.pp.log1p(sas)\n",
    "sas.raw = sas"
   ]
  },
  {
   "cell_type": "code",
   "execution_count": null,
   "id": "e577c84a-e49c-4706-b155-7804fe4a0b7e",
   "metadata": {},
   "outputs": [],
   "source": [
    "li.mt.rank_aggregate.by_sample(sas,\n",
    "                               sample_key='spatial_location',\n",
    "                               groupby='cell_type_lvl5',\n",
    "                               resource_name = 'consensus',\n",
    "                               expr_prop=0.1, # must be expressed in expr_prop fraction of cells\n",
    "                               min_cells = 5,\n",
    "                               n_perms = 100,\n",
    "                               use_raw = False, # run on log- and library-normalized counts\n",
    "                               verbose = True,\n",
    "                               inplace = True\n",
    "                              )"
   ]
  },
  {
   "cell_type": "code",
   "execution_count": null,
   "id": "ffc77372-86f2-4341-beb0-2953213d6b37",
   "metadata": {},
   "outputs": [],
   "source": [
    "sorted_samples = sorted(sas.obs['spatial_location'].unique())"
   ]
  },
  {
   "cell_type": "code",
   "execution_count": null,
   "id": "fc285f2a-6177-4729-971b-6f027f71e0e9",
   "metadata": {},
   "outputs": [],
   "source": [
    "# build the tensor\n",
    "tensor = li.multi.to_tensor_c2c(liana_res=sas.uns['liana_res'], # LIANA's dataframe containing results\n",
    "                                sample_key='spatial_location', # Column name of the samples\n",
    "                                source_key='source', # Column name of the sender cells\n",
    "                                target_key='target', # Column name of the receiver cells\n",
    "                                ligand_key='ligand_complex', # Column name of the ligands\n",
    "                                receptor_key='receptor_complex', # Column name of the receptors\n",
    "                                score_key='magnitude_rank', # Column name of the communication scores to use\n",
    "                                inverse_fun=lambda x: 1 - x, # Transformation function\n",
    "                                how='outer', # What to include across all samples\n",
    "                                outer_fraction=1/3., # Fraction of samples as threshold to include cells and LR pairs.\n",
    "                                context_order=sorted_samples, # Order to store the contexts in the tensor\n",
    "                               )"
   ]
  },
  {
   "cell_type": "code",
   "execution_count": null,
   "id": "43c52471-e906-487c-bd2b-32d59d857e95",
   "metadata": {},
   "outputs": [],
   "source": [
    "context_dict = {x: x for x in sas.obs['spatial_location']}"
   ]
  },
  {
   "cell_type": "code",
   "execution_count": 33,
   "id": "0839e377-4e59-423d-abf0-03e419172616",
   "metadata": {},
   "outputs": [],
   "source": [
    "dimensions_dict = [context_dict, None, None, None]\n",
    "meta_tensor = c2c.tensor.generate_tensor_metadata(interaction_tensor=tensor,\n",
    "                                                  metadata_dicts=dimensions_dict,\n",
    "                                                  fill_with_order_elements=True\n",
    "                                                 )"
   ]
  },
  {
   "cell_type": "code",
   "execution_count": 34,
   "id": "ec283b06-eb63-4f3a-9b91-82e50578b575",
   "metadata": {},
   "outputs": [
    {
     "name": "stdout",
     "output_type": "stream",
     "text": [
      "/lustre/scratch126/cellgen/team283/yd2/whole_embryo/liana/ already exists.\n",
      "/lustre/scratch126/cellgen/team283/yd2/whole_embryo/liana//outputs already exists.\n"
     ]
    }
   ],
   "source": [
    "data_folder = '/lustre/scratch126/cellgen/team283/yd2/whole_embryo/11072024_tensor_c2c_SAS_liver/'\n",
    "output_folder = '/lustre/scratch126/cellgen/team283/yd2/whole_embryo/11072024_tensor_c2c_SAS_liver/outputs'\n",
    "c2c.io.directories.create_directory(data_folder)\n",
    "c2c.io.directories.create_directory(output_folder)"
   ]
  },
  {
   "cell_type": "code",
   "execution_count": 35,
   "id": "756f03f9-9557-4974-a2e4-4d016c5b061f",
   "metadata": {},
   "outputs": [
    {
     "name": "stdout",
     "output_type": "stream",
     "text": [
      "/lustre/scratch126/cellgen/team283/yd2/whole_embryo/liana//outputs/Tensor.pkl  was correctly saved.\n",
      "/lustre/scratch126/cellgen/team283/yd2/whole_embryo/liana//outputs/Tensor-Metadata.pkl  was correctly saved.\n"
     ]
    }
   ],
   "source": [
    "c2c.io.export_variable_with_pickle(variable=tensor,\n",
    "                                   filename=output_folder + '/Tensor.pkl')\n",
    "c2c.io.export_variable_with_pickle(variable=meta_tensor,\n",
    "                                   filename=output_folder + '/Tensor-Metadata.pkl')"
   ]
  },
  {
   "cell_type": "code",
   "execution_count": 36,
   "id": "a0e46a79-d73d-4963-b8a3-9f37f86cac47",
   "metadata": {},
   "outputs": [],
   "source": [
    "tensor = c2c.io.read_data.load_tensor(output_folder + '/Tensor.pkl')\n",
    "meta_tensor = c2c.io.load_variable_with_pickle(output_folder + '/Tensor-Metadata.pkl')"
   ]
  },
  {
   "cell_type": "code",
   "execution_count": null,
   "id": "d96dab93-094c-44fa-a7b0-12a1ab3e632d",
   "metadata": {},
   "outputs": [
    {
     "name": "stdout",
     "output_type": "stream",
     "text": [
      "Running Elbow Analysis\n"
     ]
    },
    {
     "name": "stderr",
     "output_type": "stream",
     "text": [
      " 40%|█████████████████████████████████████████████▌                                                                    | 10/25 [12:30<24:03, 96.22s/it]"
     ]
    }
   ],
   "source": [
    "c2c.analysis.run_tensor_cell2cell_pipeline(tensor,\n",
    "                                           meta_tensor,\n",
    "                                           rank=None, # Number of factors to perform the factorization. If None, it is automatically determined by an elbow analysis\n",
    "                                           tf_optimization='robust', # To define how robust we want the analysis to be.\n",
    "                                           random_state=0, # Random seed for reproducibility\n",
    "                                           device='cuda', # Device to use. If using GPU and PyTorch, use 'cuda'. For CPU use 'cpu'\n",
    "                                           output_folder=output_folder, # Whether to save the figures in files. If so, a folder pathname must be passed\n",
    "                                          )"
   ]
  },
  {
   "cell_type": "code",
   "execution_count": null,
   "id": "0a1aae81-bb81-4be6-8230-87d6935649c7",
   "metadata": {},
   "outputs": [],
   "source": []
  },
  {
   "cell_type": "code",
   "execution_count": null,
   "id": "2228f22d-6ebf-40b4-bd10-5cd935055fa5",
   "metadata": {},
   "outputs": [],
   "source": []
  },
  {
   "cell_type": "code",
   "execution_count": null,
   "id": "859727e2-8d05-47a4-8169-66ec8f21dee6",
   "metadata": {},
   "outputs": [],
   "source": []
  },
  {
   "cell_type": "code",
   "execution_count": null,
   "id": "66f99144-4e27-4ca9-be5d-8272f5ab77d9",
   "metadata": {},
   "outputs": [],
   "source": []
  },
  {
   "cell_type": "code",
   "execution_count": null,
   "id": "3a5d5136-0ba2-4a5f-9e83-5d38f7c23f93",
   "metadata": {},
   "outputs": [],
   "source": []
  },
  {
   "cell_type": "code",
   "execution_count": null,
   "id": "6bf3c37d-9c08-4092-b046-fd0eeada63eb",
   "metadata": {},
   "outputs": [],
   "source": []
  }
 ],
 "metadata": {
  "kernelspec": {
   "display_name": "liana",
   "language": "python",
   "name": "liana"
  },
  "language_info": {
   "codemirror_mode": {
    "name": "ipython",
    "version": 3
   },
   "file_extension": ".py",
   "mimetype": "text/x-python",
   "name": "python",
   "nbconvert_exporter": "python",
   "pygments_lexer": "ipython3",
   "version": "3.8.19"
  }
 },
 "nbformat": 4,
 "nbformat_minor": 5
}
