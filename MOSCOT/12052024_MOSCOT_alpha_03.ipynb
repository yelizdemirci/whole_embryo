{
 "cells": [
  {
   "cell_type": "markdown",
   "id": "15e764a5-30db-4438-a38f-656836d15359",
   "metadata": {},
   "source": [
    "## import warnings\n",
    "\n",
    "import moscot as mt\n",
    "from moscot.problems.space import AlignmentProblem\n",
    "\n",
    "import numpy as np\n",
    "import scanpy as sc\n",
    "import squidpy as sq\n",
    "import matplotlib as plt\n",
    "import matplotlib\n",
    "import matplotlib.pyplot as plt \n",
    "import matplotlib as mpl\n",
    "import pandas as pd\n",
    "import matplotlib.pyplot as plt\n",
    "\n",
    "warnings.simplefilter(\"ignore\", UserWarning)"
   ]
  },
  {
   "cell_type": "code",
   "execution_count": 2,
   "id": "54ef7116-c205-4dd6-915f-95a523793d13",
   "metadata": {},
   "outputs": [],
   "source": [
    "def select_slide(adata, s, s_col='sample'):\n",
    "    r\"\"\" This function selects the data for one slide from the spatial anndata object.\n",
    "    :param adata: Anndata object with multiple spatial experiments\n",
    "    :param s: name of selected experiment\n",
    "    :param s_col: column in adata.obs listing experiment name for each location\n",
    "    \"\"\"\n",
    "    slide = adata[adata.obs[s_col].isin(s), :]\n",
    "    s_keys = list(slide.uns['spatial'].keys())\n",
    "    s_spatial = np.array(s_keys)[[s in k for k in s_keys]][0]\n",
    "    slide.uns['spatial'] = {s_spatial: slide.uns['spatial'][s_spatial]}\n",
    "    return slide\n",
    "\n",
    "\n",
    "def select_slides(adata, s, s_col='sample'):\n",
    "    \"\"\"\n",
    "    This function selects the data for specified slides from the spatial anndata object.\n",
    "    \n",
    "    :param adata: Anndata object with multiple spatial experiments\n",
    "    :param s: list of names of selected experiments\n",
    "    :param s_col: column in adata.obs listing experiment name for each location\n",
    "    \"\"\"\n",
    "    # Filter the adata object for the specified slides\n",
    "    slide = adata[adata.obs[s_col].isin(s), :]\n",
    "\n",
    "    # Process the 'spatial' dictionary in 'uns'\n",
    "    s_keys = list(slide.uns['spatial'].keys())\n",
    "    filtered_spatial_keys = [k for k in s_keys if any(substring in k for substring in s)]\n",
    "    \n",
    "    if filtered_spatial_keys:\n",
    "        # Update the 'spatial' dictionary to keep only the relevant keys\n",
    "        slide.uns['spatial'] = {key: slide.uns['spatial'][key] for key in filtered_spatial_keys}\n",
    "    else:\n",
    "        # Handle the case where no matching keys are found\n",
    "        print(\"Warning: No matching spatial keys found for the specified slides.\")\n",
    "        slide.uns['spatial'] = {}\n",
    "\n",
    "    return slide\n"
   ]
  },
  {
   "cell_type": "code",
   "execution_count": 3,
   "id": "b1b0d59c-073d-40ad-9fb7-a4d051457832",
   "metadata": {
    "tags": []
   },
   "outputs": [],
   "source": [
    "adata=sc.read_h5ad('/lustre/scratch126/cellgen/team283/yd2/whole_embryo/12052024_all_sections_no_cord_no_liver/adata_nocord_noliver.h5ad')"
   ]
  },
  {
   "cell_type": "code",
   "execution_count": 4,
   "id": "52e6f906-bfce-4bb8-b6b3-7f939e0ddfc6",
   "metadata": {},
   "outputs": [],
   "source": [
    "adata=select_slides(adata, s=['section_022',\n",
    " 'section_029',\n",
    " 'section_031',\n",
    " 'section_035',\n",
    " 'section_040',\n",
    " 'section_046',\n",
    " 'section_047',\n",
    " 'section_048',\n",
    " 'section_050',\n",
    " 'section_052',\n",
    " 'section_054',\n",
    " 'section_061',\n",
    " 'section_064',\n",
    " 'section_068',\n",
    " 'section_070',\n",
    " 'section_071',\n",
    " 'section_076',\n",
    " 'section_078',\n",
    " 'section_084',\n",
    " 'section_086',\n",
    " 'section_091',\n",
    " 'section_096',\n",
    " 'section_101',\n",
    " 'section_106',\n",
    " 'section_111',\n",
    " 'section_121',\n",
    " 'section_124',\n",
    " 'section_127',\n",
    " 'section_131',\n",
    " 'section_134',\n",
    " 'section_137',\n",
    " 'section_141',\n",
    " 'section_142',\n",
    " 'section_145',\n",
    " 'section_151',\n",
    " 'section_154',\n",
    " 'section_161',\n",
    " 'section_165',\n",
    " 'section_172',\n",
    " 'section_177',\n",
    " 'section_182',\n",
    " 'section_187',\n",
    " 'section_192',\n",
    " 'section_202',\n",
    " 'section_205',\n",
    " 'section_212',\n",
    " 'section_221',\n",
    " 'section_231',\n",
    " 'section_241',\n",
    " 'section_245',\n",
    " 'section_251',\n",
    " 'section_252',\n",
    " 'section_261',\n",
    " 'section_267',\n",
    " 'section_281'])"
   ]
  },
  {
   "cell_type": "code",
   "execution_count": 8,
   "id": "2b03e8fe-642a-4567-9607-77975d5609b0",
   "metadata": {
    "scrolled": true,
    "tags": []
   },
   "outputs": [
    {
     "name": "stdout",
     "output_type": "stream",
     "text": [
      "\u001b[34mINFO    \u001b[0m Ordering \u001b[1;35mIndex\u001b[0m\u001b[1m(\u001b[0m\u001b[1m[\u001b[0m\u001b[32m'section_022_AACAATGGAACCACAT-1'\u001b[0m, \u001b[32m'section_022_AACAATTATCTGCGCC-1'\u001b[0m,                       \n",
      "                \u001b[32m'section_022_AACACCAGCCTACTCG-1'\u001b[0m, \u001b[32m'section_022_AACACCATTCGCATAC-1'\u001b[0m,                                \n",
      "                \u001b[32m'section_022_AACACCGAGCTTGGAT-1'\u001b[0m, \u001b[32m'section_022_AACACCTAAGCATTGC-1'\u001b[0m,                                \n",
      "                \u001b[32m'section_022_AACACGCAGATAACAA-1'\u001b[0m, \u001b[32m'section_022_AACACGTTGATACCGC-1'\u001b[0m,                                \n",
      "                \u001b[32m'section_022_AACACTCGAAGTATCA-1'\u001b[0m, \u001b[32m'section_022_AACACTCGTGAGCTTC-1'\u001b[0m,                                \n",
      "                \u001b[33m...\u001b[0m                                                                                                \n",
      "                \u001b[32m'section_281_TGCACGACCATTGGCA-1'\u001b[0m, \u001b[32m'section_281_TGCAGAAGTGTTGATG-1'\u001b[0m,                                \n",
      "                \u001b[32m'section_281_TGCCAGTAGCCACTTA-1'\u001b[0m, \u001b[32m'section_281_TGGAGTCGAGATCAAC-1'\u001b[0m,                                \n",
      "                \u001b[32m'section_281_TGGTCTGGATACGTTA-1'\u001b[0m, \u001b[32m'section_281_TGTAATTAACGTCAAC-1'\u001b[0m,                                \n",
      "                \u001b[32m'section_281_TGTCGTTAGCTGTATC-1'\u001b[0m, \u001b[32m'section_281_TGTTCATATCTATGAC-1'\u001b[0m,                                \n",
      "                \u001b[32m'section_281_TGTTCGATGGATACGT-1'\u001b[0m, \u001b[32m'section_281_TGTTCGTACACGGCCA-1'\u001b[0m\u001b[1m]\u001b[0m,                               \n",
      "               \u001b[33mdtype\u001b[0m=\u001b[32m'object'\u001b[0m, \u001b[33mname\u001b[0m=\u001b[32m'spot_id'\u001b[0m, \u001b[33mlength\u001b[0m=\u001b[1;36m335425\u001b[0m\u001b[1m)\u001b[0m in ascending order.                                  \n",
      "\u001b[34mINFO    \u001b[0m Computing pca with `\u001b[33mn_comps\u001b[0m=\u001b[1;36m30\u001b[0m` for `xy` using `adata.X`                                                  \n"
     ]
    },
    {
     "name": "stderr",
     "output_type": "stream",
     "text": [
      "/software/team283/tl7/miniconda3/envs/moscot/lib/python3.9/site-packages/anndata/_core/anndata.py:522: FutureWarning: The dtype argument is deprecated and will be removed in late 2024.\n",
      "  warnings.warn(\n"
     ]
    },
    {
     "name": "stdout",
     "output_type": "stream",
     "text": [
      "\u001b[34mINFO    \u001b[0m Normalizing spatial coordinates of `x`.                                                                   \n",
      "\u001b[34mINFO    \u001b[0m Normalizing spatial coordinates of `y`.                                                                   \n",
      "\u001b[34mINFO    \u001b[0m Computing pca with `\u001b[33mn_comps\u001b[0m=\u001b[1;36m30\u001b[0m` for `xy` using `adata.X`                                                  \n"
     ]
    },
    {
     "name": "stderr",
     "output_type": "stream",
     "text": [
      "/software/team283/tl7/miniconda3/envs/moscot/lib/python3.9/site-packages/anndata/_core/anndata.py:522: FutureWarning: The dtype argument is deprecated and will be removed in late 2024.\n",
      "  warnings.warn(\n"
     ]
    },
    {
     "name": "stdout",
     "output_type": "stream",
     "text": [
      "\u001b[34mINFO    \u001b[0m Normalizing spatial coordinates of `x`.                                                                   \n",
      "\u001b[34mINFO    \u001b[0m Normalizing spatial coordinates of `y`.                                                                   \n",
      "\u001b[34mINFO    \u001b[0m Computing pca with `\u001b[33mn_comps\u001b[0m=\u001b[1;36m30\u001b[0m` for `xy` using `adata.X`                                                  \n"
     ]
    },
    {
     "name": "stderr",
     "output_type": "stream",
     "text": [
      "/software/team283/tl7/miniconda3/envs/moscot/lib/python3.9/site-packages/anndata/_core/anndata.py:522: FutureWarning: The dtype argument is deprecated and will be removed in late 2024.\n",
      "  warnings.warn(\n"
     ]
    },
    {
     "name": "stdout",
     "output_type": "stream",
     "text": [
      "\u001b[34mINFO    \u001b[0m Normalizing spatial coordinates of `x`.                                                                   \n",
      "\u001b[34mINFO    \u001b[0m Normalizing spatial coordinates of `y`.                                                                   \n",
      "\u001b[34mINFO    \u001b[0m Computing pca with `\u001b[33mn_comps\u001b[0m=\u001b[1;36m30\u001b[0m` for `xy` using `adata.X`                                                  \n"
     ]
    },
    {
     "name": "stderr",
     "output_type": "stream",
     "text": [
      "/software/team283/tl7/miniconda3/envs/moscot/lib/python3.9/site-packages/anndata/_core/anndata.py:522: FutureWarning: The dtype argument is deprecated and will be removed in late 2024.\n",
      "  warnings.warn(\n"
     ]
    },
    {
     "name": "stdout",
     "output_type": "stream",
     "text": [
      "\u001b[34mINFO    \u001b[0m Normalizing spatial coordinates of `x`.                                                                   \n",
      "\u001b[34mINFO    \u001b[0m Normalizing spatial coordinates of `y`.                                                                   \n",
      "\u001b[34mINFO    \u001b[0m Computing pca with `\u001b[33mn_comps\u001b[0m=\u001b[1;36m30\u001b[0m` for `xy` using `adata.X`                                                  \n"
     ]
    },
    {
     "name": "stderr",
     "output_type": "stream",
     "text": [
      "/software/team283/tl7/miniconda3/envs/moscot/lib/python3.9/site-packages/anndata/_core/anndata.py:522: FutureWarning: The dtype argument is deprecated and will be removed in late 2024.\n",
      "  warnings.warn(\n"
     ]
    },
    {
     "name": "stdout",
     "output_type": "stream",
     "text": [
      "\u001b[34mINFO    \u001b[0m Normalizing spatial coordinates of `x`.                                                                   \n",
      "\u001b[34mINFO    \u001b[0m Normalizing spatial coordinates of `y`.                                                                   \n",
      "\u001b[34mINFO    \u001b[0m Computing pca with `\u001b[33mn_comps\u001b[0m=\u001b[1;36m30\u001b[0m` for `xy` using `adata.X`                                                  \n"
     ]
    },
    {
     "name": "stderr",
     "output_type": "stream",
     "text": [
      "/software/team283/tl7/miniconda3/envs/moscot/lib/python3.9/site-packages/anndata/_core/anndata.py:522: FutureWarning: The dtype argument is deprecated and will be removed in late 2024.\n",
      "  warnings.warn(\n"
     ]
    },
    {
     "name": "stdout",
     "output_type": "stream",
     "text": [
      "\u001b[34mINFO    \u001b[0m Normalizing spatial coordinates of `x`.                                                                   \n",
      "\u001b[34mINFO    \u001b[0m Normalizing spatial coordinates of `y`.                                                                   \n",
      "\u001b[34mINFO    \u001b[0m Computing pca with `\u001b[33mn_comps\u001b[0m=\u001b[1;36m30\u001b[0m` for `xy` using `adata.X`                                                  \n"
     ]
    },
    {
     "name": "stderr",
     "output_type": "stream",
     "text": [
      "/software/team283/tl7/miniconda3/envs/moscot/lib/python3.9/site-packages/anndata/_core/anndata.py:522: FutureWarning: The dtype argument is deprecated and will be removed in late 2024.\n",
      "  warnings.warn(\n"
     ]
    },
    {
     "name": "stdout",
     "output_type": "stream",
     "text": [
      "\u001b[34mINFO    \u001b[0m Normalizing spatial coordinates of `x`.                                                                   \n",
      "\u001b[34mINFO    \u001b[0m Normalizing spatial coordinates of `y`.                                                                   \n",
      "\u001b[34mINFO    \u001b[0m Computing pca with `\u001b[33mn_comps\u001b[0m=\u001b[1;36m30\u001b[0m` for `xy` using `adata.X`                                                  \n"
     ]
    },
    {
     "name": "stderr",
     "output_type": "stream",
     "text": [
      "/software/team283/tl7/miniconda3/envs/moscot/lib/python3.9/site-packages/anndata/_core/anndata.py:522: FutureWarning: The dtype argument is deprecated and will be removed in late 2024.\n",
      "  warnings.warn(\n"
     ]
    },
    {
     "name": "stdout",
     "output_type": "stream",
     "text": [
      "\u001b[34mINFO    \u001b[0m Normalizing spatial coordinates of `x`.                                                                   \n",
      "\u001b[34mINFO    \u001b[0m Normalizing spatial coordinates of `y`.                                                                   \n",
      "\u001b[34mINFO    \u001b[0m Computing pca with `\u001b[33mn_comps\u001b[0m=\u001b[1;36m30\u001b[0m` for `xy` using `adata.X`                                                  \n"
     ]
    },
    {
     "name": "stderr",
     "output_type": "stream",
     "text": [
      "/software/team283/tl7/miniconda3/envs/moscot/lib/python3.9/site-packages/anndata/_core/anndata.py:522: FutureWarning: The dtype argument is deprecated and will be removed in late 2024.\n",
      "  warnings.warn(\n"
     ]
    },
    {
     "name": "stdout",
     "output_type": "stream",
     "text": [
      "\u001b[34mINFO    \u001b[0m Normalizing spatial coordinates of `x`.                                                                   \n",
      "\u001b[34mINFO    \u001b[0m Normalizing spatial coordinates of `y`.                                                                   \n",
      "\u001b[34mINFO    \u001b[0m Computing pca with `\u001b[33mn_comps\u001b[0m=\u001b[1;36m30\u001b[0m` for `xy` using `adata.X`                                                  \n"
     ]
    },
    {
     "name": "stderr",
     "output_type": "stream",
     "text": [
      "/software/team283/tl7/miniconda3/envs/moscot/lib/python3.9/site-packages/anndata/_core/anndata.py:522: FutureWarning: The dtype argument is deprecated and will be removed in late 2024.\n",
      "  warnings.warn(\n"
     ]
    },
    {
     "name": "stdout",
     "output_type": "stream",
     "text": [
      "\u001b[34mINFO    \u001b[0m Normalizing spatial coordinates of `x`.                                                                   \n",
      "\u001b[34mINFO    \u001b[0m Normalizing spatial coordinates of `y`.                                                                   \n",
      "\u001b[34mINFO    \u001b[0m Computing pca with `\u001b[33mn_comps\u001b[0m=\u001b[1;36m30\u001b[0m` for `xy` using `adata.X`                                                  \n"
     ]
    },
    {
     "name": "stderr",
     "output_type": "stream",
     "text": [
      "/software/team283/tl7/miniconda3/envs/moscot/lib/python3.9/site-packages/anndata/_core/anndata.py:522: FutureWarning: The dtype argument is deprecated and will be removed in late 2024.\n",
      "  warnings.warn(\n"
     ]
    },
    {
     "name": "stdout",
     "output_type": "stream",
     "text": [
      "\u001b[34mINFO    \u001b[0m Normalizing spatial coordinates of `x`.                                                                   \n",
      "\u001b[34mINFO    \u001b[0m Normalizing spatial coordinates of `y`.                                                                   \n",
      "\u001b[34mINFO    \u001b[0m Computing pca with `\u001b[33mn_comps\u001b[0m=\u001b[1;36m30\u001b[0m` for `xy` using `adata.X`                                                  \n"
     ]
    },
    {
     "name": "stderr",
     "output_type": "stream",
     "text": [
      "/software/team283/tl7/miniconda3/envs/moscot/lib/python3.9/site-packages/anndata/_core/anndata.py:522: FutureWarning: The dtype argument is deprecated and will be removed in late 2024.\n",
      "  warnings.warn(\n"
     ]
    },
    {
     "name": "stdout",
     "output_type": "stream",
     "text": [
      "\u001b[34mINFO    \u001b[0m Normalizing spatial coordinates of `x`.                                                                   \n",
      "\u001b[34mINFO    \u001b[0m Normalizing spatial coordinates of `y`.                                                                   \n",
      "\u001b[34mINFO    \u001b[0m Computing pca with `\u001b[33mn_comps\u001b[0m=\u001b[1;36m30\u001b[0m` for `xy` using `adata.X`                                                  \n"
     ]
    },
    {
     "name": "stderr",
     "output_type": "stream",
     "text": [
      "/software/team283/tl7/miniconda3/envs/moscot/lib/python3.9/site-packages/anndata/_core/anndata.py:522: FutureWarning: The dtype argument is deprecated and will be removed in late 2024.\n",
      "  warnings.warn(\n"
     ]
    },
    {
     "name": "stdout",
     "output_type": "stream",
     "text": [
      "\u001b[34mINFO    \u001b[0m Normalizing spatial coordinates of `x`.                                                                   \n",
      "\u001b[34mINFO    \u001b[0m Normalizing spatial coordinates of `y`.                                                                   \n",
      "\u001b[34mINFO    \u001b[0m Computing pca with `\u001b[33mn_comps\u001b[0m=\u001b[1;36m30\u001b[0m` for `xy` using `adata.X`                                                  \n"
     ]
    },
    {
     "name": "stderr",
     "output_type": "stream",
     "text": [
      "/software/team283/tl7/miniconda3/envs/moscot/lib/python3.9/site-packages/anndata/_core/anndata.py:522: FutureWarning: The dtype argument is deprecated and will be removed in late 2024.\n",
      "  warnings.warn(\n"
     ]
    },
    {
     "name": "stdout",
     "output_type": "stream",
     "text": [
      "\u001b[34mINFO    \u001b[0m Normalizing spatial coordinates of `x`.                                                                   \n",
      "\u001b[34mINFO    \u001b[0m Normalizing spatial coordinates of `y`.                                                                   \n",
      "\u001b[34mINFO    \u001b[0m Computing pca with `\u001b[33mn_comps\u001b[0m=\u001b[1;36m30\u001b[0m` for `xy` using `adata.X`                                                  \n"
     ]
    },
    {
     "name": "stderr",
     "output_type": "stream",
     "text": [
      "/software/team283/tl7/miniconda3/envs/moscot/lib/python3.9/site-packages/anndata/_core/anndata.py:522: FutureWarning: The dtype argument is deprecated and will be removed in late 2024.\n",
      "  warnings.warn(\n"
     ]
    },
    {
     "name": "stdout",
     "output_type": "stream",
     "text": [
      "\u001b[34mINFO    \u001b[0m Normalizing spatial coordinates of `x`.                                                                   \n",
      "\u001b[34mINFO    \u001b[0m Normalizing spatial coordinates of `y`.                                                                   \n",
      "\u001b[34mINFO    \u001b[0m Computing pca with `\u001b[33mn_comps\u001b[0m=\u001b[1;36m30\u001b[0m` for `xy` using `adata.X`                                                  \n"
     ]
    },
    {
     "name": "stderr",
     "output_type": "stream",
     "text": [
      "/software/team283/tl7/miniconda3/envs/moscot/lib/python3.9/site-packages/anndata/_core/anndata.py:522: FutureWarning: The dtype argument is deprecated and will be removed in late 2024.\n",
      "  warnings.warn(\n"
     ]
    },
    {
     "name": "stdout",
     "output_type": "stream",
     "text": [
      "\u001b[34mINFO    \u001b[0m Normalizing spatial coordinates of `x`.                                                                   \n",
      "\u001b[34mINFO    \u001b[0m Normalizing spatial coordinates of `y`.                                                                   \n",
      "\u001b[34mINFO    \u001b[0m Computing pca with `\u001b[33mn_comps\u001b[0m=\u001b[1;36m30\u001b[0m` for `xy` using `adata.X`                                                  \n"
     ]
    },
    {
     "name": "stderr",
     "output_type": "stream",
     "text": [
      "/software/team283/tl7/miniconda3/envs/moscot/lib/python3.9/site-packages/anndata/_core/anndata.py:522: FutureWarning: The dtype argument is deprecated and will be removed in late 2024.\n",
      "  warnings.warn(\n"
     ]
    },
    {
     "name": "stdout",
     "output_type": "stream",
     "text": [
      "\u001b[34mINFO    \u001b[0m Normalizing spatial coordinates of `x`.                                                                   \n",
      "\u001b[34mINFO    \u001b[0m Normalizing spatial coordinates of `y`.                                                                   \n",
      "\u001b[34mINFO    \u001b[0m Computing pca with `\u001b[33mn_comps\u001b[0m=\u001b[1;36m30\u001b[0m` for `xy` using `adata.X`                                                  \n"
     ]
    },
    {
     "name": "stderr",
     "output_type": "stream",
     "text": [
      "/software/team283/tl7/miniconda3/envs/moscot/lib/python3.9/site-packages/anndata/_core/anndata.py:522: FutureWarning: The dtype argument is deprecated and will be removed in late 2024.\n",
      "  warnings.warn(\n"
     ]
    },
    {
     "name": "stdout",
     "output_type": "stream",
     "text": [
      "\u001b[34mINFO    \u001b[0m Normalizing spatial coordinates of `x`.                                                                   \n",
      "\u001b[34mINFO    \u001b[0m Normalizing spatial coordinates of `y`.                                                                   \n",
      "\u001b[34mINFO    \u001b[0m Computing pca with `\u001b[33mn_comps\u001b[0m=\u001b[1;36m30\u001b[0m` for `xy` using `adata.X`                                                  \n"
     ]
    },
    {
     "name": "stderr",
     "output_type": "stream",
     "text": [
      "/software/team283/tl7/miniconda3/envs/moscot/lib/python3.9/site-packages/anndata/_core/anndata.py:522: FutureWarning: The dtype argument is deprecated and will be removed in late 2024.\n",
      "  warnings.warn(\n"
     ]
    },
    {
     "name": "stdout",
     "output_type": "stream",
     "text": [
      "\u001b[34mINFO    \u001b[0m Normalizing spatial coordinates of `x`.                                                                   \n",
      "\u001b[34mINFO    \u001b[0m Normalizing spatial coordinates of `y`.                                                                   \n",
      "\u001b[34mINFO    \u001b[0m Computing pca with `\u001b[33mn_comps\u001b[0m=\u001b[1;36m30\u001b[0m` for `xy` using `adata.X`                                                  \n"
     ]
    },
    {
     "name": "stderr",
     "output_type": "stream",
     "text": [
      "/software/team283/tl7/miniconda3/envs/moscot/lib/python3.9/site-packages/anndata/_core/anndata.py:522: FutureWarning: The dtype argument is deprecated and will be removed in late 2024.\n",
      "  warnings.warn(\n"
     ]
    },
    {
     "name": "stdout",
     "output_type": "stream",
     "text": [
      "\u001b[34mINFO    \u001b[0m Normalizing spatial coordinates of `x`.                                                                   \n",
      "\u001b[34mINFO    \u001b[0m Normalizing spatial coordinates of `y`.                                                                   \n",
      "\u001b[34mINFO    \u001b[0m Computing pca with `\u001b[33mn_comps\u001b[0m=\u001b[1;36m30\u001b[0m` for `xy` using `adata.X`                                                  \n"
     ]
    },
    {
     "name": "stderr",
     "output_type": "stream",
     "text": [
      "/software/team283/tl7/miniconda3/envs/moscot/lib/python3.9/site-packages/anndata/_core/anndata.py:522: FutureWarning: The dtype argument is deprecated and will be removed in late 2024.\n",
      "  warnings.warn(\n"
     ]
    },
    {
     "name": "stdout",
     "output_type": "stream",
     "text": [
      "\u001b[34mINFO    \u001b[0m Normalizing spatial coordinates of `x`.                                                                   \n",
      "\u001b[34mINFO    \u001b[0m Normalizing spatial coordinates of `y`.                                                                   \n",
      "\u001b[34mINFO    \u001b[0m Computing pca with `\u001b[33mn_comps\u001b[0m=\u001b[1;36m30\u001b[0m` for `xy` using `adata.X`                                                  \n"
     ]
    },
    {
     "name": "stderr",
     "output_type": "stream",
     "text": [
      "/software/team283/tl7/miniconda3/envs/moscot/lib/python3.9/site-packages/anndata/_core/anndata.py:522: FutureWarning: The dtype argument is deprecated and will be removed in late 2024.\n",
      "  warnings.warn(\n"
     ]
    },
    {
     "name": "stdout",
     "output_type": "stream",
     "text": [
      "\u001b[34mINFO    \u001b[0m Normalizing spatial coordinates of `x`.                                                                   \n",
      "\u001b[34mINFO    \u001b[0m Normalizing spatial coordinates of `y`.                                                                   \n",
      "\u001b[34mINFO    \u001b[0m Computing pca with `\u001b[33mn_comps\u001b[0m=\u001b[1;36m30\u001b[0m` for `xy` using `adata.X`                                                  \n"
     ]
    },
    {
     "name": "stderr",
     "output_type": "stream",
     "text": [
      "/software/team283/tl7/miniconda3/envs/moscot/lib/python3.9/site-packages/anndata/_core/anndata.py:522: FutureWarning: The dtype argument is deprecated and will be removed in late 2024.\n",
      "  warnings.warn(\n"
     ]
    },
    {
     "name": "stdout",
     "output_type": "stream",
     "text": [
      "\u001b[34mINFO    \u001b[0m Normalizing spatial coordinates of `x`.                                                                   \n",
      "\u001b[34mINFO    \u001b[0m Normalizing spatial coordinates of `y`.                                                                   \n",
      "\u001b[34mINFO    \u001b[0m Computing pca with `\u001b[33mn_comps\u001b[0m=\u001b[1;36m30\u001b[0m` for `xy` using `adata.X`                                                  \n"
     ]
    },
    {
     "name": "stderr",
     "output_type": "stream",
     "text": [
      "/software/team283/tl7/miniconda3/envs/moscot/lib/python3.9/site-packages/anndata/_core/anndata.py:522: FutureWarning: The dtype argument is deprecated and will be removed in late 2024.\n",
      "  warnings.warn(\n"
     ]
    },
    {
     "name": "stdout",
     "output_type": "stream",
     "text": [
      "\u001b[34mINFO    \u001b[0m Normalizing spatial coordinates of `x`.                                                                   \n",
      "\u001b[34mINFO    \u001b[0m Normalizing spatial coordinates of `y`.                                                                   \n",
      "\u001b[34mINFO    \u001b[0m Computing pca with `\u001b[33mn_comps\u001b[0m=\u001b[1;36m30\u001b[0m` for `xy` using `adata.X`                                                  \n"
     ]
    },
    {
     "name": "stderr",
     "output_type": "stream",
     "text": [
      "/software/team283/tl7/miniconda3/envs/moscot/lib/python3.9/site-packages/anndata/_core/anndata.py:522: FutureWarning: The dtype argument is deprecated and will be removed in late 2024.\n",
      "  warnings.warn(\n"
     ]
    },
    {
     "name": "stdout",
     "output_type": "stream",
     "text": [
      "\u001b[34mINFO    \u001b[0m Normalizing spatial coordinates of `x`.                                                                   \n",
      "\u001b[34mINFO    \u001b[0m Normalizing spatial coordinates of `y`.                                                                   \n",
      "\u001b[34mINFO    \u001b[0m Computing pca with `\u001b[33mn_comps\u001b[0m=\u001b[1;36m30\u001b[0m` for `xy` using `adata.X`                                                  \n"
     ]
    },
    {
     "name": "stderr",
     "output_type": "stream",
     "text": [
      "/software/team283/tl7/miniconda3/envs/moscot/lib/python3.9/site-packages/anndata/_core/anndata.py:522: FutureWarning: The dtype argument is deprecated and will be removed in late 2024.\n",
      "  warnings.warn(\n"
     ]
    },
    {
     "name": "stdout",
     "output_type": "stream",
     "text": [
      "\u001b[34mINFO    \u001b[0m Normalizing spatial coordinates of `x`.                                                                   \n",
      "\u001b[34mINFO    \u001b[0m Normalizing spatial coordinates of `y`.                                                                   \n",
      "\u001b[34mINFO    \u001b[0m Computing pca with `\u001b[33mn_comps\u001b[0m=\u001b[1;36m30\u001b[0m` for `xy` using `adata.X`                                                  \n"
     ]
    },
    {
     "name": "stderr",
     "output_type": "stream",
     "text": [
      "/software/team283/tl7/miniconda3/envs/moscot/lib/python3.9/site-packages/anndata/_core/anndata.py:522: FutureWarning: The dtype argument is deprecated and will be removed in late 2024.\n",
      "  warnings.warn(\n"
     ]
    },
    {
     "name": "stdout",
     "output_type": "stream",
     "text": [
      "\u001b[34mINFO    \u001b[0m Normalizing spatial coordinates of `x`.                                                                   \n",
      "\u001b[34mINFO    \u001b[0m Normalizing spatial coordinates of `y`.                                                                   \n",
      "\u001b[34mINFO    \u001b[0m Computing pca with `\u001b[33mn_comps\u001b[0m=\u001b[1;36m30\u001b[0m` for `xy` using `adata.X`                                                  \n"
     ]
    },
    {
     "name": "stderr",
     "output_type": "stream",
     "text": [
      "/software/team283/tl7/miniconda3/envs/moscot/lib/python3.9/site-packages/anndata/_core/anndata.py:522: FutureWarning: The dtype argument is deprecated and will be removed in late 2024.\n",
      "  warnings.warn(\n"
     ]
    },
    {
     "name": "stdout",
     "output_type": "stream",
     "text": [
      "\u001b[34mINFO    \u001b[0m Normalizing spatial coordinates of `x`.                                                                   \n",
      "\u001b[34mINFO    \u001b[0m Normalizing spatial coordinates of `y`.                                                                   \n",
      "\u001b[34mINFO    \u001b[0m Computing pca with `\u001b[33mn_comps\u001b[0m=\u001b[1;36m30\u001b[0m` for `xy` using `adata.X`                                                  \n"
     ]
    },
    {
     "name": "stderr",
     "output_type": "stream",
     "text": [
      "/software/team283/tl7/miniconda3/envs/moscot/lib/python3.9/site-packages/anndata/_core/anndata.py:522: FutureWarning: The dtype argument is deprecated and will be removed in late 2024.\n",
      "  warnings.warn(\n"
     ]
    },
    {
     "name": "stdout",
     "output_type": "stream",
     "text": [
      "\u001b[34mINFO    \u001b[0m Normalizing spatial coordinates of `x`.                                                                   \n",
      "\u001b[34mINFO    \u001b[0m Normalizing spatial coordinates of `y`.                                                                   \n",
      "\u001b[34mINFO    \u001b[0m Computing pca with `\u001b[33mn_comps\u001b[0m=\u001b[1;36m30\u001b[0m` for `xy` using `adata.X`                                                  \n"
     ]
    },
    {
     "name": "stderr",
     "output_type": "stream",
     "text": [
      "/software/team283/tl7/miniconda3/envs/moscot/lib/python3.9/site-packages/anndata/_core/anndata.py:522: FutureWarning: The dtype argument is deprecated and will be removed in late 2024.\n",
      "  warnings.warn(\n"
     ]
    },
    {
     "name": "stdout",
     "output_type": "stream",
     "text": [
      "\u001b[34mINFO    \u001b[0m Normalizing spatial coordinates of `x`.                                                                   \n",
      "\u001b[34mINFO    \u001b[0m Normalizing spatial coordinates of `y`.                                                                   \n",
      "\u001b[34mINFO    \u001b[0m Computing pca with `\u001b[33mn_comps\u001b[0m=\u001b[1;36m30\u001b[0m` for `xy` using `adata.X`                                                  \n"
     ]
    },
    {
     "name": "stderr",
     "output_type": "stream",
     "text": [
      "/software/team283/tl7/miniconda3/envs/moscot/lib/python3.9/site-packages/anndata/_core/anndata.py:522: FutureWarning: The dtype argument is deprecated and will be removed in late 2024.\n",
      "  warnings.warn(\n"
     ]
    },
    {
     "name": "stdout",
     "output_type": "stream",
     "text": [
      "\u001b[34mINFO    \u001b[0m Normalizing spatial coordinates of `x`.                                                                   \n",
      "\u001b[34mINFO    \u001b[0m Normalizing spatial coordinates of `y`.                                                                   \n",
      "\u001b[34mINFO    \u001b[0m Computing pca with `\u001b[33mn_comps\u001b[0m=\u001b[1;36m30\u001b[0m` for `xy` using `adata.X`                                                  \n"
     ]
    },
    {
     "name": "stderr",
     "output_type": "stream",
     "text": [
      "/software/team283/tl7/miniconda3/envs/moscot/lib/python3.9/site-packages/anndata/_core/anndata.py:522: FutureWarning: The dtype argument is deprecated and will be removed in late 2024.\n",
      "  warnings.warn(\n"
     ]
    },
    {
     "name": "stdout",
     "output_type": "stream",
     "text": [
      "\u001b[34mINFO    \u001b[0m Normalizing spatial coordinates of `x`.                                                                   \n",
      "\u001b[34mINFO    \u001b[0m Normalizing spatial coordinates of `y`.                                                                   \n",
      "\u001b[34mINFO    \u001b[0m Computing pca with `\u001b[33mn_comps\u001b[0m=\u001b[1;36m30\u001b[0m` for `xy` using `adata.X`                                                  \n"
     ]
    },
    {
     "name": "stderr",
     "output_type": "stream",
     "text": [
      "/software/team283/tl7/miniconda3/envs/moscot/lib/python3.9/site-packages/anndata/_core/anndata.py:522: FutureWarning: The dtype argument is deprecated and will be removed in late 2024.\n",
      "  warnings.warn(\n"
     ]
    },
    {
     "name": "stdout",
     "output_type": "stream",
     "text": [
      "\u001b[34mINFO    \u001b[0m Normalizing spatial coordinates of `x`.                                                                   \n",
      "\u001b[34mINFO    \u001b[0m Normalizing spatial coordinates of `y`.                                                                   \n",
      "\u001b[34mINFO    \u001b[0m Computing pca with `\u001b[33mn_comps\u001b[0m=\u001b[1;36m30\u001b[0m` for `xy` using `adata.X`                                                  \n"
     ]
    },
    {
     "name": "stderr",
     "output_type": "stream",
     "text": [
      "/software/team283/tl7/miniconda3/envs/moscot/lib/python3.9/site-packages/anndata/_core/anndata.py:522: FutureWarning: The dtype argument is deprecated and will be removed in late 2024.\n",
      "  warnings.warn(\n"
     ]
    },
    {
     "name": "stdout",
     "output_type": "stream",
     "text": [
      "\u001b[34mINFO    \u001b[0m Normalizing spatial coordinates of `x`.                                                                   \n",
      "\u001b[34mINFO    \u001b[0m Normalizing spatial coordinates of `y`.                                                                   \n",
      "\u001b[34mINFO    \u001b[0m Computing pca with `\u001b[33mn_comps\u001b[0m=\u001b[1;36m30\u001b[0m` for `xy` using `adata.X`                                                  \n"
     ]
    },
    {
     "name": "stderr",
     "output_type": "stream",
     "text": [
      "/software/team283/tl7/miniconda3/envs/moscot/lib/python3.9/site-packages/anndata/_core/anndata.py:522: FutureWarning: The dtype argument is deprecated and will be removed in late 2024.\n",
      "  warnings.warn(\n"
     ]
    },
    {
     "name": "stdout",
     "output_type": "stream",
     "text": [
      "\u001b[34mINFO    \u001b[0m Normalizing spatial coordinates of `x`.                                                                   \n",
      "\u001b[34mINFO    \u001b[0m Normalizing spatial coordinates of `y`.                                                                   \n",
      "\u001b[34mINFO    \u001b[0m Computing pca with `\u001b[33mn_comps\u001b[0m=\u001b[1;36m30\u001b[0m` for `xy` using `adata.X`                                                  \n"
     ]
    },
    {
     "name": "stderr",
     "output_type": "stream",
     "text": [
      "/software/team283/tl7/miniconda3/envs/moscot/lib/python3.9/site-packages/anndata/_core/anndata.py:522: FutureWarning: The dtype argument is deprecated and will be removed in late 2024.\n",
      "  warnings.warn(\n"
     ]
    },
    {
     "name": "stdout",
     "output_type": "stream",
     "text": [
      "\u001b[34mINFO    \u001b[0m Normalizing spatial coordinates of `x`.                                                                   \n",
      "\u001b[34mINFO    \u001b[0m Normalizing spatial coordinates of `y`.                                                                   \n",
      "\u001b[34mINFO    \u001b[0m Computing pca with `\u001b[33mn_comps\u001b[0m=\u001b[1;36m30\u001b[0m` for `xy` using `adata.X`                                                  \n"
     ]
    },
    {
     "name": "stderr",
     "output_type": "stream",
     "text": [
      "/software/team283/tl7/miniconda3/envs/moscot/lib/python3.9/site-packages/anndata/_core/anndata.py:522: FutureWarning: The dtype argument is deprecated and will be removed in late 2024.\n",
      "  warnings.warn(\n"
     ]
    },
    {
     "name": "stdout",
     "output_type": "stream",
     "text": [
      "\u001b[34mINFO    \u001b[0m Normalizing spatial coordinates of `x`.                                                                   \n",
      "\u001b[34mINFO    \u001b[0m Normalizing spatial coordinates of `y`.                                                                   \n",
      "\u001b[34mINFO    \u001b[0m Computing pca with `\u001b[33mn_comps\u001b[0m=\u001b[1;36m30\u001b[0m` for `xy` using `adata.X`                                                  \n"
     ]
    },
    {
     "name": "stderr",
     "output_type": "stream",
     "text": [
      "/software/team283/tl7/miniconda3/envs/moscot/lib/python3.9/site-packages/anndata/_core/anndata.py:522: FutureWarning: The dtype argument is deprecated and will be removed in late 2024.\n",
      "  warnings.warn(\n"
     ]
    },
    {
     "name": "stdout",
     "output_type": "stream",
     "text": [
      "\u001b[34mINFO    \u001b[0m Normalizing spatial coordinates of `x`.                                                                   \n",
      "\u001b[34mINFO    \u001b[0m Normalizing spatial coordinates of `y`.                                                                   \n",
      "\u001b[34mINFO    \u001b[0m Computing pca with `\u001b[33mn_comps\u001b[0m=\u001b[1;36m30\u001b[0m` for `xy` using `adata.X`                                                  \n"
     ]
    },
    {
     "name": "stderr",
     "output_type": "stream",
     "text": [
      "/software/team283/tl7/miniconda3/envs/moscot/lib/python3.9/site-packages/anndata/_core/anndata.py:522: FutureWarning: The dtype argument is deprecated and will be removed in late 2024.\n",
      "  warnings.warn(\n"
     ]
    },
    {
     "name": "stdout",
     "output_type": "stream",
     "text": [
      "\u001b[34mINFO    \u001b[0m Normalizing spatial coordinates of `x`.                                                                   \n",
      "\u001b[34mINFO    \u001b[0m Normalizing spatial coordinates of `y`.                                                                   \n",
      "\u001b[34mINFO    \u001b[0m Computing pca with `\u001b[33mn_comps\u001b[0m=\u001b[1;36m30\u001b[0m` for `xy` using `adata.X`                                                  \n"
     ]
    },
    {
     "name": "stderr",
     "output_type": "stream",
     "text": [
      "/software/team283/tl7/miniconda3/envs/moscot/lib/python3.9/site-packages/anndata/_core/anndata.py:522: FutureWarning: The dtype argument is deprecated and will be removed in late 2024.\n",
      "  warnings.warn(\n"
     ]
    },
    {
     "name": "stdout",
     "output_type": "stream",
     "text": [
      "\u001b[34mINFO    \u001b[0m Normalizing spatial coordinates of `x`.                                                                   \n",
      "\u001b[34mINFO    \u001b[0m Normalizing spatial coordinates of `y`.                                                                   \n",
      "\u001b[34mINFO    \u001b[0m Computing pca with `\u001b[33mn_comps\u001b[0m=\u001b[1;36m30\u001b[0m` for `xy` using `adata.X`                                                  \n"
     ]
    },
    {
     "name": "stderr",
     "output_type": "stream",
     "text": [
      "/software/team283/tl7/miniconda3/envs/moscot/lib/python3.9/site-packages/anndata/_core/anndata.py:522: FutureWarning: The dtype argument is deprecated and will be removed in late 2024.\n",
      "  warnings.warn(\n"
     ]
    },
    {
     "name": "stdout",
     "output_type": "stream",
     "text": [
      "\u001b[34mINFO    \u001b[0m Normalizing spatial coordinates of `x`.                                                                   \n",
      "\u001b[34mINFO    \u001b[0m Normalizing spatial coordinates of `y`.                                                                   \n",
      "\u001b[34mINFO    \u001b[0m Computing pca with `\u001b[33mn_comps\u001b[0m=\u001b[1;36m30\u001b[0m` for `xy` using `adata.X`                                                  \n"
     ]
    },
    {
     "name": "stderr",
     "output_type": "stream",
     "text": [
      "/software/team283/tl7/miniconda3/envs/moscot/lib/python3.9/site-packages/anndata/_core/anndata.py:522: FutureWarning: The dtype argument is deprecated and will be removed in late 2024.\n",
      "  warnings.warn(\n"
     ]
    },
    {
     "name": "stdout",
     "output_type": "stream",
     "text": [
      "\u001b[34mINFO    \u001b[0m Normalizing spatial coordinates of `x`.                                                                   \n",
      "\u001b[34mINFO    \u001b[0m Normalizing spatial coordinates of `y`.                                                                   \n",
      "\u001b[34mINFO    \u001b[0m Computing pca with `\u001b[33mn_comps\u001b[0m=\u001b[1;36m30\u001b[0m` for `xy` using `adata.X`                                                  \n"
     ]
    },
    {
     "name": "stderr",
     "output_type": "stream",
     "text": [
      "/software/team283/tl7/miniconda3/envs/moscot/lib/python3.9/site-packages/anndata/_core/anndata.py:522: FutureWarning: The dtype argument is deprecated and will be removed in late 2024.\n",
      "  warnings.warn(\n"
     ]
    },
    {
     "name": "stdout",
     "output_type": "stream",
     "text": [
      "\u001b[34mINFO    \u001b[0m Normalizing spatial coordinates of `x`.                                                                   \n",
      "\u001b[34mINFO    \u001b[0m Normalizing spatial coordinates of `y`.                                                                   \n",
      "\u001b[34mINFO    \u001b[0m Computing pca with `\u001b[33mn_comps\u001b[0m=\u001b[1;36m30\u001b[0m` for `xy` using `adata.X`                                                  \n"
     ]
    },
    {
     "name": "stderr",
     "output_type": "stream",
     "text": [
      "/software/team283/tl7/miniconda3/envs/moscot/lib/python3.9/site-packages/anndata/_core/anndata.py:522: FutureWarning: The dtype argument is deprecated and will be removed in late 2024.\n",
      "  warnings.warn(\n"
     ]
    },
    {
     "name": "stdout",
     "output_type": "stream",
     "text": [
      "\u001b[34mINFO    \u001b[0m Normalizing spatial coordinates of `x`.                                                                   \n",
      "\u001b[34mINFO    \u001b[0m Normalizing spatial coordinates of `y`.                                                                   \n",
      "\u001b[34mINFO    \u001b[0m Computing pca with `\u001b[33mn_comps\u001b[0m=\u001b[1;36m30\u001b[0m` for `xy` using `adata.X`                                                  \n"
     ]
    },
    {
     "name": "stderr",
     "output_type": "stream",
     "text": [
      "/software/team283/tl7/miniconda3/envs/moscot/lib/python3.9/site-packages/anndata/_core/anndata.py:522: FutureWarning: The dtype argument is deprecated and will be removed in late 2024.\n",
      "  warnings.warn(\n"
     ]
    },
    {
     "name": "stdout",
     "output_type": "stream",
     "text": [
      "\u001b[34mINFO    \u001b[0m Normalizing spatial coordinates of `x`.                                                                   \n",
      "\u001b[34mINFO    \u001b[0m Normalizing spatial coordinates of `y`.                                                                   \n",
      "\u001b[34mINFO    \u001b[0m Computing pca with `\u001b[33mn_comps\u001b[0m=\u001b[1;36m30\u001b[0m` for `xy` using `adata.X`                                                  \n"
     ]
    },
    {
     "name": "stderr",
     "output_type": "stream",
     "text": [
      "/software/team283/tl7/miniconda3/envs/moscot/lib/python3.9/site-packages/anndata/_core/anndata.py:522: FutureWarning: The dtype argument is deprecated and will be removed in late 2024.\n",
      "  warnings.warn(\n"
     ]
    },
    {
     "name": "stdout",
     "output_type": "stream",
     "text": [
      "\u001b[34mINFO    \u001b[0m Normalizing spatial coordinates of `x`.                                                                   \n",
      "\u001b[34mINFO    \u001b[0m Normalizing spatial coordinates of `y`.                                                                   \n",
      "\u001b[34mINFO    \u001b[0m Computing pca with `\u001b[33mn_comps\u001b[0m=\u001b[1;36m30\u001b[0m` for `xy` using `adata.X`                                                  \n"
     ]
    },
    {
     "name": "stderr",
     "output_type": "stream",
     "text": [
      "/software/team283/tl7/miniconda3/envs/moscot/lib/python3.9/site-packages/anndata/_core/anndata.py:522: FutureWarning: The dtype argument is deprecated and will be removed in late 2024.\n",
      "  warnings.warn(\n"
     ]
    },
    {
     "name": "stdout",
     "output_type": "stream",
     "text": [
      "\u001b[34mINFO    \u001b[0m Normalizing spatial coordinates of `x`.                                                                   \n",
      "\u001b[34mINFO    \u001b[0m Normalizing spatial coordinates of `y`.                                                                   \n",
      "\u001b[34mINFO    \u001b[0m Computing pca with `\u001b[33mn_comps\u001b[0m=\u001b[1;36m30\u001b[0m` for `xy` using `adata.X`                                                  \n"
     ]
    },
    {
     "name": "stderr",
     "output_type": "stream",
     "text": [
      "/software/team283/tl7/miniconda3/envs/moscot/lib/python3.9/site-packages/anndata/_core/anndata.py:522: FutureWarning: The dtype argument is deprecated and will be removed in late 2024.\n",
      "  warnings.warn(\n"
     ]
    },
    {
     "name": "stdout",
     "output_type": "stream",
     "text": [
      "\u001b[34mINFO    \u001b[0m Normalizing spatial coordinates of `x`.                                                                   \n",
      "\u001b[34mINFO    \u001b[0m Normalizing spatial coordinates of `y`.                                                                   \n",
      "\u001b[34mINFO    \u001b[0m Computing pca with `\u001b[33mn_comps\u001b[0m=\u001b[1;36m30\u001b[0m` for `xy` using `adata.X`                                                  \n"
     ]
    },
    {
     "name": "stderr",
     "output_type": "stream",
     "text": [
      "/software/team283/tl7/miniconda3/envs/moscot/lib/python3.9/site-packages/anndata/_core/anndata.py:522: FutureWarning: The dtype argument is deprecated and will be removed in late 2024.\n",
      "  warnings.warn(\n"
     ]
    },
    {
     "name": "stdout",
     "output_type": "stream",
     "text": [
      "\u001b[34mINFO    \u001b[0m Normalizing spatial coordinates of `x`.                                                                   \n",
      "\u001b[34mINFO    \u001b[0m Normalizing spatial coordinates of `y`.                                                                   \n",
      "\u001b[34mINFO    \u001b[0m Computing pca with `\u001b[33mn_comps\u001b[0m=\u001b[1;36m30\u001b[0m` for `xy` using `adata.X`                                                  \n"
     ]
    },
    {
     "name": "stderr",
     "output_type": "stream",
     "text": [
      "/software/team283/tl7/miniconda3/envs/moscot/lib/python3.9/site-packages/anndata/_core/anndata.py:522: FutureWarning: The dtype argument is deprecated and will be removed in late 2024.\n",
      "  warnings.warn(\n"
     ]
    },
    {
     "name": "stdout",
     "output_type": "stream",
     "text": [
      "\u001b[34mINFO    \u001b[0m Normalizing spatial coordinates of `x`.                                                                   \n",
      "\u001b[34mINFO    \u001b[0m Normalizing spatial coordinates of `y`.                                                                   \n",
      "\u001b[34mINFO    \u001b[0m Computing pca with `\u001b[33mn_comps\u001b[0m=\u001b[1;36m30\u001b[0m` for `xy` using `adata.X`                                                  \n"
     ]
    },
    {
     "name": "stderr",
     "output_type": "stream",
     "text": [
      "/software/team283/tl7/miniconda3/envs/moscot/lib/python3.9/site-packages/anndata/_core/anndata.py:522: FutureWarning: The dtype argument is deprecated and will be removed in late 2024.\n",
      "  warnings.warn(\n"
     ]
    },
    {
     "name": "stdout",
     "output_type": "stream",
     "text": [
      "\u001b[34mINFO    \u001b[0m Normalizing spatial coordinates of `x`.                                                                   \n",
      "\u001b[34mINFO    \u001b[0m Normalizing spatial coordinates of `y`.                                                                   \n",
      "\u001b[34mINFO    \u001b[0m Computing pca with `\u001b[33mn_comps\u001b[0m=\u001b[1;36m30\u001b[0m` for `xy` using `adata.X`                                                  \n"
     ]
    },
    {
     "name": "stderr",
     "output_type": "stream",
     "text": [
      "/software/team283/tl7/miniconda3/envs/moscot/lib/python3.9/site-packages/anndata/_core/anndata.py:522: FutureWarning: The dtype argument is deprecated and will be removed in late 2024.\n",
      "  warnings.warn(\n"
     ]
    },
    {
     "name": "stdout",
     "output_type": "stream",
     "text": [
      "\u001b[34mINFO    \u001b[0m Normalizing spatial coordinates of `x`.                                                                   \n",
      "\u001b[34mINFO    \u001b[0m Normalizing spatial coordinates of `y`.                                                                   \n",
      "\u001b[34mINFO    \u001b[0m Computing pca with `\u001b[33mn_comps\u001b[0m=\u001b[1;36m30\u001b[0m` for `xy` using `adata.X`                                                  \n"
     ]
    },
    {
     "name": "stderr",
     "output_type": "stream",
     "text": [
      "/software/team283/tl7/miniconda3/envs/moscot/lib/python3.9/site-packages/anndata/_core/anndata.py:522: FutureWarning: The dtype argument is deprecated and will be removed in late 2024.\n",
      "  warnings.warn(\n"
     ]
    },
    {
     "name": "stdout",
     "output_type": "stream",
     "text": [
      "\u001b[34mINFO    \u001b[0m Normalizing spatial coordinates of `x`.                                                                   \n",
      "\u001b[34mINFO    \u001b[0m Normalizing spatial coordinates of `y`.                                                                   \n",
      "\u001b[34mINFO    \u001b[0m Computing pca with `\u001b[33mn_comps\u001b[0m=\u001b[1;36m30\u001b[0m` for `xy` using `adata.X`                                                  \n"
     ]
    },
    {
     "name": "stderr",
     "output_type": "stream",
     "text": [
      "/software/team283/tl7/miniconda3/envs/moscot/lib/python3.9/site-packages/anndata/_core/anndata.py:522: FutureWarning: The dtype argument is deprecated and will be removed in late 2024.\n",
      "  warnings.warn(\n"
     ]
    },
    {
     "name": "stdout",
     "output_type": "stream",
     "text": [
      "\u001b[34mINFO    \u001b[0m Normalizing spatial coordinates of `x`.                                                                   \n",
      "\u001b[34mINFO    \u001b[0m Normalizing spatial coordinates of `y`.                                                                   \n"
     ]
    }
   ],
   "source": [
    "ap = AlignmentProblem(adata=adata)\n",
    "ap = ap.prepare(batch_key=\"sample\", policy=\"sequential\")"
   ]
  },
  {
   "cell_type": "code",
   "execution_count": 9,
   "id": "5a8f06b8-84a4-4cf3-8a57-dd4c2a567381",
   "metadata": {},
   "outputs": [
    {
     "name": "stdout",
     "output_type": "stream",
     "text": [
      "\u001b[34mINFO    \u001b[0m Solving `\u001b[1;36m54\u001b[0m` problems                                                                                     \n",
      "\u001b[34mINFO    \u001b[0m Solving problem OTProblem\u001b[1m[\u001b[0m\u001b[33mstage\u001b[0m=\u001b[32m'prepared'\u001b[0m, \u001b[33mshape\u001b[0m=\u001b[1m(\u001b[0m\u001b[1;36m3406\u001b[0m, \u001b[1;36m3555\u001b[0m\u001b[1m)\u001b[0m\u001b[1m]\u001b[0m.                                          \n"
     ]
    },
    {
     "name": "stderr",
     "output_type": "stream",
     "text": [
      "CUDA backend failed to initialize: Found CUDA version 11060, but JAX was built against version 11080, which is newer. The copy of CUDA that is installed must be at least as new as the version against which JAX was built. (Set TF_CPP_MIN_LOG_LEVEL=0 and rerun for more info.)\n"
     ]
    },
    {
     "name": "stdout",
     "output_type": "stream",
     "text": [
      "\u001b[31mWARNING \u001b[0m Solver did not converge                                                                                   \n",
      "\u001b[34mINFO    \u001b[0m Solving problem OTProblem\u001b[1m[\u001b[0m\u001b[33mstage\u001b[0m=\u001b[32m'prepared'\u001b[0m, \u001b[33mshape\u001b[0m=\u001b[1m(\u001b[0m\u001b[1;36m8391\u001b[0m, \u001b[1;36m7692\u001b[0m\u001b[1m)\u001b[0m\u001b[1m]\u001b[0m.                                          \n",
      "\u001b[31mWARNING \u001b[0m Solver did not converge                                                                                   \n",
      "\u001b[34mINFO    \u001b[0m Solving problem OTProblem\u001b[1m[\u001b[0m\u001b[33mstage\u001b[0m=\u001b[32m'prepared'\u001b[0m, \u001b[33mshape\u001b[0m=\u001b[1m(\u001b[0m\u001b[1;36m8012\u001b[0m, \u001b[1;36m7953\u001b[0m\u001b[1m)\u001b[0m\u001b[1m]\u001b[0m.                                          \n",
      "\u001b[31mWARNING \u001b[0m Solver did not converge                                                                                   \n",
      "\u001b[34mINFO    \u001b[0m Solving problem OTProblem\u001b[1m[\u001b[0m\u001b[33mstage\u001b[0m=\u001b[32m'prepared'\u001b[0m, \u001b[33mshape\u001b[0m=\u001b[1m(\u001b[0m\u001b[1;36m4020\u001b[0m, \u001b[1;36m3948\u001b[0m\u001b[1m)\u001b[0m\u001b[1m]\u001b[0m.                                          \n",
      "\u001b[31mWARNING \u001b[0m Solver did not converge                                                                                   \n",
      "\u001b[34mINFO    \u001b[0m Solving problem OTProblem\u001b[1m[\u001b[0m\u001b[33mstage\u001b[0m=\u001b[32m'prepared'\u001b[0m, \u001b[33mshape\u001b[0m=\u001b[1m(\u001b[0m\u001b[1;36m7953\u001b[0m, \u001b[1;36m8508\u001b[0m\u001b[1m)\u001b[0m\u001b[1m]\u001b[0m.                                          \n",
      "\u001b[31mWARNING \u001b[0m Solver did not converge                                                                                   \n",
      "\u001b[34mINFO    \u001b[0m Solving problem OTProblem\u001b[1m[\u001b[0m\u001b[33mstage\u001b[0m=\u001b[32m'prepared'\u001b[0m, \u001b[33mshape\u001b[0m=\u001b[1m(\u001b[0m\u001b[1;36m7976\u001b[0m, \u001b[1;36m7555\u001b[0m\u001b[1m)\u001b[0m\u001b[1m]\u001b[0m.                                          \n",
      "\u001b[31mWARNING \u001b[0m Solver did not converge                                                                                   \n",
      "\u001b[34mINFO    \u001b[0m Solving problem OTProblem\u001b[1m[\u001b[0m\u001b[33mstage\u001b[0m=\u001b[32m'prepared'\u001b[0m, \u001b[33mshape\u001b[0m=\u001b[1m(\u001b[0m\u001b[1;36m8027\u001b[0m, \u001b[1;36m8012\u001b[0m\u001b[1m)\u001b[0m\u001b[1m]\u001b[0m.                                          \n",
      "\u001b[34mINFO    \u001b[0m Solving problem OTProblem\u001b[1m[\u001b[0m\u001b[33mstage\u001b[0m=\u001b[32m'prepared'\u001b[0m, \u001b[33mshape\u001b[0m=\u001b[1m(\u001b[0m\u001b[1;36m3555\u001b[0m, \u001b[1;36m2729\u001b[0m\u001b[1m)\u001b[0m\u001b[1m]\u001b[0m.                                          \n",
      "\u001b[34mINFO    \u001b[0m Solving problem OTProblem\u001b[1m[\u001b[0m\u001b[33mstage\u001b[0m=\u001b[32m'prepared'\u001b[0m, \u001b[33mshape\u001b[0m=\u001b[1m(\u001b[0m\u001b[1;36m4118\u001b[0m, \u001b[1;36m4001\u001b[0m\u001b[1m)\u001b[0m\u001b[1m]\u001b[0m.                                          \n",
      "\u001b[31mWARNING \u001b[0m Solver did not converge                                                                                   \n",
      "\u001b[34mINFO    \u001b[0m Solving problem OTProblem\u001b[1m[\u001b[0m\u001b[33mstage\u001b[0m=\u001b[32m'prepared'\u001b[0m, \u001b[33mshape\u001b[0m=\u001b[1m(\u001b[0m\u001b[1;36m8560\u001b[0m, \u001b[1;36m8632\u001b[0m\u001b[1m)\u001b[0m\u001b[1m]\u001b[0m.                                          \n",
      "\u001b[31mWARNING \u001b[0m Solver did not converge                                                                                   \n",
      "\u001b[34mINFO    \u001b[0m Solving problem OTProblem\u001b[1m[\u001b[0m\u001b[33mstage\u001b[0m=\u001b[32m'prepared'\u001b[0m, \u001b[33mshape\u001b[0m=\u001b[1m(\u001b[0m\u001b[1;36m9013\u001b[0m, \u001b[1;36m8560\u001b[0m\u001b[1m)\u001b[0m\u001b[1m]\u001b[0m.                                          \n",
      "\u001b[31mWARNING \u001b[0m Solver did not converge                                                                                   \n",
      "\u001b[34mINFO    \u001b[0m Solving problem OTProblem\u001b[1m[\u001b[0m\u001b[33mstage\u001b[0m=\u001b[32m'prepared'\u001b[0m, \u001b[33mshape\u001b[0m=\u001b[1m(\u001b[0m\u001b[1;36m7663\u001b[0m, \u001b[1;36m5934\u001b[0m\u001b[1m)\u001b[0m\u001b[1m]\u001b[0m.                                          \n",
      "\u001b[31mWARNING \u001b[0m Solver did not converge                                                                                   \n",
      "\u001b[34mINFO    \u001b[0m Solving problem OTProblem\u001b[1m[\u001b[0m\u001b[33mstage\u001b[0m=\u001b[32m'prepared'\u001b[0m, \u001b[33mshape\u001b[0m=\u001b[1m(\u001b[0m\u001b[1;36m8231\u001b[0m, \u001b[1;36m8363\u001b[0m\u001b[1m)\u001b[0m\u001b[1m]\u001b[0m.                                          \n",
      "\u001b[31mWARNING \u001b[0m Solver did not converge                                                                                   \n",
      "\u001b[34mINFO    \u001b[0m Solving problem OTProblem\u001b[1m[\u001b[0m\u001b[33mstage\u001b[0m=\u001b[32m'prepared'\u001b[0m, \u001b[33mshape\u001b[0m=\u001b[1m(\u001b[0m\u001b[1;36m348\u001b[0m, \u001b[1;36m302\u001b[0m\u001b[1m)\u001b[0m\u001b[1m]\u001b[0m.                                            \n",
      "\u001b[34mINFO    \u001b[0m Solving problem OTProblem\u001b[1m[\u001b[0m\u001b[33mstage\u001b[0m=\u001b[32m'prepared'\u001b[0m, \u001b[33mshape\u001b[0m=\u001b[1m(\u001b[0m\u001b[1;36m694\u001b[0m, \u001b[1;36m347\u001b[0m\u001b[1m)\u001b[0m\u001b[1m]\u001b[0m.                                            \n",
      "\u001b[34mINFO    \u001b[0m Solving problem OTProblem\u001b[1m[\u001b[0m\u001b[33mstage\u001b[0m=\u001b[32m'prepared'\u001b[0m, \u001b[33mshape\u001b[0m=\u001b[1m(\u001b[0m\u001b[1;36m7983\u001b[0m, \u001b[1;36m8391\u001b[0m\u001b[1m)\u001b[0m\u001b[1m]\u001b[0m.                                          \n",
      "\u001b[31mWARNING \u001b[0m Solver did not converge                                                                                   \n",
      "\u001b[34mINFO    \u001b[0m Solving problem OTProblem\u001b[1m[\u001b[0m\u001b[33mstage\u001b[0m=\u001b[32m'prepared'\u001b[0m, \u001b[33mshape\u001b[0m=\u001b[1m(\u001b[0m\u001b[1;36m8647\u001b[0m, \u001b[1;36m8800\u001b[0m\u001b[1m)\u001b[0m\u001b[1m]\u001b[0m.                                          \n",
      "\u001b[31mWARNING \u001b[0m Solver did not converge                                                                                   \n",
      "\u001b[34mINFO    \u001b[0m Solving problem OTProblem\u001b[1m[\u001b[0m\u001b[33mstage\u001b[0m=\u001b[32m'prepared'\u001b[0m, \u001b[33mshape\u001b[0m=\u001b[1m(\u001b[0m\u001b[1;36m3609\u001b[0m, \u001b[1;36m4118\u001b[0m\u001b[1m)\u001b[0m\u001b[1m]\u001b[0m.                                          \n",
      "\u001b[31mWARNING \u001b[0m Solver did not converge                                                                                   \n",
      "\u001b[34mINFO    \u001b[0m Solving problem OTProblem\u001b[1m[\u001b[0m\u001b[33mstage\u001b[0m=\u001b[32m'prepared'\u001b[0m, \u001b[33mshape\u001b[0m=\u001b[1m(\u001b[0m\u001b[1;36m7083\u001b[0m, \u001b[1;36m7061\u001b[0m\u001b[1m)\u001b[0m\u001b[1m]\u001b[0m.                                          \n",
      "\u001b[31mWARNING \u001b[0m Solver did not converge                                                                                   \n",
      "\u001b[34mINFO    \u001b[0m Solving problem OTProblem\u001b[1m[\u001b[0m\u001b[33mstage\u001b[0m=\u001b[32m'prepared'\u001b[0m, \u001b[33mshape\u001b[0m=\u001b[1m(\u001b[0m\u001b[1;36m6598\u001b[0m, \u001b[1;36m3676\u001b[0m\u001b[1m)\u001b[0m\u001b[1m]\u001b[0m.                                          \n",
      "\u001b[34mINFO    \u001b[0m Solving problem OTProblem\u001b[1m[\u001b[0m\u001b[33mstage\u001b[0m=\u001b[32m'prepared'\u001b[0m, \u001b[33mshape\u001b[0m=\u001b[1m(\u001b[0m\u001b[1;36m8915\u001b[0m, \u001b[1;36m8130\u001b[0m\u001b[1m)\u001b[0m\u001b[1m]\u001b[0m.                                          \n",
      "\u001b[31mWARNING \u001b[0m Solver did not converge                                                                                   \n",
      "\u001b[34mINFO    \u001b[0m Solving problem OTProblem\u001b[1m[\u001b[0m\u001b[33mstage\u001b[0m=\u001b[32m'prepared'\u001b[0m, \u001b[33mshape\u001b[0m=\u001b[1m(\u001b[0m\u001b[1;36m8800\u001b[0m, \u001b[1;36m8695\u001b[0m\u001b[1m)\u001b[0m\u001b[1m]\u001b[0m.                                          \n",
      "\u001b[31mWARNING \u001b[0m Solver did not converge                                                                                   \n",
      "\u001b[34mINFO    \u001b[0m Solving problem OTProblem\u001b[1m[\u001b[0m\u001b[33mstage\u001b[0m=\u001b[32m'prepared'\u001b[0m, \u001b[33mshape\u001b[0m=\u001b[1m(\u001b[0m\u001b[1;36m8801\u001b[0m, \u001b[1;36m8584\u001b[0m\u001b[1m)\u001b[0m\u001b[1m]\u001b[0m.                                          \n",
      "\u001b[31mWARNING \u001b[0m Solver did not converge                                                                                   \n",
      "\u001b[34mINFO    \u001b[0m Solving problem OTProblem\u001b[1m[\u001b[0m\u001b[33mstage\u001b[0m=\u001b[32m'prepared'\u001b[0m, \u001b[33mshape\u001b[0m=\u001b[1m(\u001b[0m\u001b[1;36m8297\u001b[0m, \u001b[1;36m8231\u001b[0m\u001b[1m)\u001b[0m\u001b[1m]\u001b[0m.                                          \n",
      "\u001b[31mWARNING \u001b[0m Solver did not converge                                                                                   \n",
      "\u001b[34mINFO    \u001b[0m Solving problem OTProblem\u001b[1m[\u001b[0m\u001b[33mstage\u001b[0m=\u001b[32m'prepared'\u001b[0m, \u001b[33mshape\u001b[0m=\u001b[1m(\u001b[0m\u001b[1;36m8836\u001b[0m, \u001b[1;36m8801\u001b[0m\u001b[1m)\u001b[0m\u001b[1m]\u001b[0m.                                          \n",
      "\u001b[31mWARNING \u001b[0m Solver did not converge                                                                                   \n",
      "\u001b[34mINFO    \u001b[0m Solving problem OTProblem\u001b[1m[\u001b[0m\u001b[33mstage\u001b[0m=\u001b[32m'prepared'\u001b[0m, \u001b[33mshape\u001b[0m=\u001b[1m(\u001b[0m\u001b[1;36m7557\u001b[0m, \u001b[1;36m7983\u001b[0m\u001b[1m)\u001b[0m\u001b[1m]\u001b[0m.                                          \n",
      "\u001b[31mWARNING \u001b[0m Solver did not converge                                                                                   \n",
      "\u001b[34mINFO    \u001b[0m Solving problem OTProblem\u001b[1m[\u001b[0m\u001b[33mstage\u001b[0m=\u001b[32m'prepared'\u001b[0m, \u001b[33mshape\u001b[0m=\u001b[1m(\u001b[0m\u001b[1;36m8801\u001b[0m, \u001b[1;36m8647\u001b[0m\u001b[1m)\u001b[0m\u001b[1m]\u001b[0m.                                          \n",
      "\u001b[31mWARNING \u001b[0m Solver did not converge                                                                                   \n",
      "\u001b[34mINFO    \u001b[0m Solving problem OTProblem\u001b[1m[\u001b[0m\u001b[33mstage\u001b[0m=\u001b[32m'prepared'\u001b[0m, \u001b[33mshape\u001b[0m=\u001b[1m(\u001b[0m\u001b[1;36m8632\u001b[0m, \u001b[1;36m8297\u001b[0m\u001b[1m)\u001b[0m\u001b[1m]\u001b[0m.                                          \n",
      "\u001b[31mWARNING \u001b[0m Solver did not converge                                                                                   \n",
      "\u001b[34mINFO    \u001b[0m Solving problem OTProblem\u001b[1m[\u001b[0m\u001b[33mstage\u001b[0m=\u001b[32m'prepared'\u001b[0m, \u001b[33mshape\u001b[0m=\u001b[1m(\u001b[0m\u001b[1;36m8584\u001b[0m, \u001b[1;36m8677\u001b[0m\u001b[1m)\u001b[0m\u001b[1m]\u001b[0m.                                          \n",
      "\u001b[34mINFO    \u001b[0m Solving problem OTProblem\u001b[1m[\u001b[0m\u001b[33mstage\u001b[0m=\u001b[32m'prepared'\u001b[0m, \u001b[33mshape\u001b[0m=\u001b[1m(\u001b[0m\u001b[1;36m8363\u001b[0m, \u001b[1;36m7976\u001b[0m\u001b[1m)\u001b[0m\u001b[1m]\u001b[0m.                                          \n",
      "\u001b[31mWARNING \u001b[0m Solver did not converge                                                                                   \n",
      "\u001b[34mINFO    \u001b[0m Solving problem OTProblem\u001b[1m[\u001b[0m\u001b[33mstage\u001b[0m=\u001b[32m'prepared'\u001b[0m, \u001b[33mshape\u001b[0m=\u001b[1m(\u001b[0m\u001b[1;36m4001\u001b[0m, \u001b[1;36m4020\u001b[0m\u001b[1m)\u001b[0m\u001b[1m]\u001b[0m.                                          \n",
      "\u001b[31mWARNING \u001b[0m Solver did not converge                                                                                   \n",
      "\u001b[34mINFO    \u001b[0m Solving problem OTProblem\u001b[1m[\u001b[0m\u001b[33mstage\u001b[0m=\u001b[32m'prepared'\u001b[0m, \u001b[33mshape\u001b[0m=\u001b[1m(\u001b[0m\u001b[1;36m8677\u001b[0m, \u001b[1;36m9013\u001b[0m\u001b[1m)\u001b[0m\u001b[1m]\u001b[0m.                                          \n",
      "\u001b[31mWARNING \u001b[0m Solver did not converge                                                                                   \n",
      "\u001b[34mINFO    \u001b[0m Solving problem OTProblem\u001b[1m[\u001b[0m\u001b[33mstage\u001b[0m=\u001b[32m'prepared'\u001b[0m, \u001b[33mshape\u001b[0m=\u001b[1m(\u001b[0m\u001b[1;36m7555\u001b[0m, \u001b[1;36m7696\u001b[0m\u001b[1m)\u001b[0m\u001b[1m]\u001b[0m.                                          \n",
      "\u001b[31mWARNING \u001b[0m Solver did not converge                                                                                   \n",
      "\u001b[34mINFO    \u001b[0m Solving problem OTProblem\u001b[1m[\u001b[0m\u001b[33mstage\u001b[0m=\u001b[32m'prepared'\u001b[0m, \u001b[33mshape\u001b[0m=\u001b[1m(\u001b[0m\u001b[1;36m7696\u001b[0m, \u001b[1;36m7663\u001b[0m\u001b[1m)\u001b[0m\u001b[1m]\u001b[0m.                                          \n",
      "\u001b[31mWARNING \u001b[0m Solver did not converge                                                                                   \n",
      "\u001b[34mINFO    \u001b[0m Solving problem OTProblem\u001b[1m[\u001b[0m\u001b[33mstage\u001b[0m=\u001b[32m'prepared'\u001b[0m, \u001b[33mshape\u001b[0m=\u001b[1m(\u001b[0m\u001b[1;36m6677\u001b[0m, \u001b[1;36m6598\u001b[0m\u001b[1m)\u001b[0m\u001b[1m]\u001b[0m.                                          \n",
      "\u001b[34mINFO    \u001b[0m Solving problem OTProblem\u001b[1m[\u001b[0m\u001b[33mstage\u001b[0m=\u001b[32m'prepared'\u001b[0m, \u001b[33mshape\u001b[0m=\u001b[1m(\u001b[0m\u001b[1;36m302\u001b[0m, \u001b[1;36m162\u001b[0m\u001b[1m)\u001b[0m\u001b[1m]\u001b[0m.                                            \n",
      "\u001b[34mINFO    \u001b[0m Solving problem OTProblem\u001b[1m[\u001b[0m\u001b[33mstage\u001b[0m=\u001b[32m'prepared'\u001b[0m, \u001b[33mshape\u001b[0m=\u001b[1m(\u001b[0m\u001b[1;36m8695\u001b[0m, \u001b[1;36m9075\u001b[0m\u001b[1m)\u001b[0m\u001b[1m]\u001b[0m.                                          \n",
      "\u001b[31mWARNING \u001b[0m Solver did not converge                                                                                   \n",
      "\u001b[34mINFO    \u001b[0m Solving problem OTProblem\u001b[1m[\u001b[0m\u001b[33mstage\u001b[0m=\u001b[32m'prepared'\u001b[0m, \u001b[33mshape\u001b[0m=\u001b[1m(\u001b[0m\u001b[1;36m7061\u001b[0m, \u001b[1;36m6800\u001b[0m\u001b[1m)\u001b[0m\u001b[1m]\u001b[0m.                                          \n",
      "\u001b[31mWARNING \u001b[0m Solver did not converge                                                                                   \n",
      "\u001b[34mINFO    \u001b[0m Solving problem OTProblem\u001b[1m[\u001b[0m\u001b[33mstage\u001b[0m=\u001b[32m'prepared'\u001b[0m, \u001b[33mshape\u001b[0m=\u001b[1m(\u001b[0m\u001b[1;36m3676\u001b[0m, \u001b[1;36m3609\u001b[0m\u001b[1m)\u001b[0m\u001b[1m]\u001b[0m.                                          \n",
      "\u001b[31mWARNING \u001b[0m Solver did not converge                                                                                   \n",
      "\u001b[34mINFO    \u001b[0m Solving problem OTProblem\u001b[1m[\u001b[0m\u001b[33mstage\u001b[0m=\u001b[32m'prepared'\u001b[0m, \u001b[33mshape\u001b[0m=\u001b[1m(\u001b[0m\u001b[1;36m7692\u001b[0m, \u001b[1;36m8115\u001b[0m\u001b[1m)\u001b[0m\u001b[1m]\u001b[0m.                                          \n",
      "\u001b[31mWARNING \u001b[0m Solver did not converge                                                                                   \n",
      "\u001b[34mINFO    \u001b[0m Solving problem OTProblem\u001b[1m[\u001b[0m\u001b[33mstage\u001b[0m=\u001b[32m'prepared'\u001b[0m, \u001b[33mshape\u001b[0m=\u001b[1m(\u001b[0m\u001b[1;36m9075\u001b[0m, \u001b[1;36m8836\u001b[0m\u001b[1m)\u001b[0m\u001b[1m]\u001b[0m.                                          \n",
      "\u001b[31mWARNING \u001b[0m Solver did not converge                                                                                   \n",
      "\u001b[34mINFO    \u001b[0m Solving problem OTProblem\u001b[1m[\u001b[0m\u001b[33mstage\u001b[0m=\u001b[32m'prepared'\u001b[0m, \u001b[33mshape\u001b[0m=\u001b[1m(\u001b[0m\u001b[1;36m8508\u001b[0m, \u001b[1;36m8915\u001b[0m\u001b[1m)\u001b[0m\u001b[1m]\u001b[0m.                                          \n",
      "\u001b[34mINFO    \u001b[0m Solving problem OTProblem\u001b[1m[\u001b[0m\u001b[33mstage\u001b[0m=\u001b[32m'prepared'\u001b[0m, \u001b[33mshape\u001b[0m=\u001b[1m(\u001b[0m\u001b[1;36m1269\u001b[0m, \u001b[1;36m763\u001b[0m\u001b[1m)\u001b[0m\u001b[1m]\u001b[0m.                                           \n",
      "\u001b[34mINFO    \u001b[0m Solving problem OTProblem\u001b[1m[\u001b[0m\u001b[33mstage\u001b[0m=\u001b[32m'prepared'\u001b[0m, \u001b[33mshape\u001b[0m=\u001b[1m(\u001b[0m\u001b[1;36m446\u001b[0m, \u001b[1;36m431\u001b[0m\u001b[1m)\u001b[0m\u001b[1m]\u001b[0m.                                            \n",
      "\u001b[31mWARNING \u001b[0m Solver did not converge                                                                                   \n",
      "\u001b[34mINFO    \u001b[0m Solving problem OTProblem\u001b[1m[\u001b[0m\u001b[33mstage\u001b[0m=\u001b[32m'prepared'\u001b[0m, \u001b[33mshape\u001b[0m=\u001b[1m(\u001b[0m\u001b[1;36m6800\u001b[0m, \u001b[1;36m6677\u001b[0m\u001b[1m)\u001b[0m\u001b[1m]\u001b[0m.                                          \n",
      "\u001b[31mWARNING \u001b[0m Solver did not converge                                                                                   \n",
      "\u001b[34mINFO    \u001b[0m Solving problem OTProblem\u001b[1m[\u001b[0m\u001b[33mstage\u001b[0m=\u001b[32m'prepared'\u001b[0m, \u001b[33mshape\u001b[0m=\u001b[1m(\u001b[0m\u001b[1;36m347\u001b[0m, \u001b[1;36m446\u001b[0m\u001b[1m)\u001b[0m\u001b[1m]\u001b[0m.                                            \n",
      "\u001b[31mWARNING \u001b[0m Solver did not converge                                                                                   \n",
      "\u001b[34mINFO    \u001b[0m Solving problem OTProblem\u001b[1m[\u001b[0m\u001b[33mstage\u001b[0m=\u001b[32m'prepared'\u001b[0m, \u001b[33mshape\u001b[0m=\u001b[1m(\u001b[0m\u001b[1;36m7263\u001b[0m, \u001b[1;36m8027\u001b[0m\u001b[1m)\u001b[0m\u001b[1m]\u001b[0m.                                          \n",
      "\u001b[31mWARNING \u001b[0m Solver did not converge                                                                                   \n",
      "\u001b[34mINFO    \u001b[0m Solving problem OTProblem\u001b[1m[\u001b[0m\u001b[33mstage\u001b[0m=\u001b[32m'prepared'\u001b[0m, \u001b[33mshape\u001b[0m=\u001b[1m(\u001b[0m\u001b[1;36m2729\u001b[0m, \u001b[1;36m1269\u001b[0m\u001b[1m)\u001b[0m\u001b[1m]\u001b[0m.                                          \n",
      "\u001b[34mINFO    \u001b[0m Solving problem OTProblem\u001b[1m[\u001b[0m\u001b[33mstage\u001b[0m=\u001b[32m'prepared'\u001b[0m, \u001b[33mshape\u001b[0m=\u001b[1m(\u001b[0m\u001b[1;36m431\u001b[0m, \u001b[1;36m348\u001b[0m\u001b[1m)\u001b[0m\u001b[1m]\u001b[0m.                                            \n",
      "\u001b[34mINFO    \u001b[0m Solving problem OTProblem\u001b[1m[\u001b[0m\u001b[33mstage\u001b[0m=\u001b[32m'prepared'\u001b[0m, \u001b[33mshape\u001b[0m=\u001b[1m(\u001b[0m\u001b[1;36m763\u001b[0m, \u001b[1;36m694\u001b[0m\u001b[1m)\u001b[0m\u001b[1m]\u001b[0m.                                            \n",
      "\u001b[34mINFO    \u001b[0m Solving problem OTProblem\u001b[1m[\u001b[0m\u001b[33mstage\u001b[0m=\u001b[32m'prepared'\u001b[0m, \u001b[33mshape\u001b[0m=\u001b[1m(\u001b[0m\u001b[1;36m3948\u001b[0m, \u001b[1;36m3406\u001b[0m\u001b[1m)\u001b[0m\u001b[1m]\u001b[0m.                                          \n",
      "\u001b[31mWARNING \u001b[0m Solver did not converge                                                                                   \n",
      "\u001b[34mINFO    \u001b[0m Solving problem OTProblem\u001b[1m[\u001b[0m\u001b[33mstage\u001b[0m=\u001b[32m'prepared'\u001b[0m, \u001b[33mshape\u001b[0m=\u001b[1m(\u001b[0m\u001b[1;36m8115\u001b[0m, \u001b[1;36m7263\u001b[0m\u001b[1m)\u001b[0m\u001b[1m]\u001b[0m.                                          \n",
      "\u001b[31mWARNING \u001b[0m Solver did not converge                                                                                   \n",
      "\u001b[34mINFO    \u001b[0m Solving problem OTProblem\u001b[1m[\u001b[0m\u001b[33mstage\u001b[0m=\u001b[32m'prepared'\u001b[0m, \u001b[33mshape\u001b[0m=\u001b[1m(\u001b[0m\u001b[1;36m8130\u001b[0m, \u001b[1;36m8801\u001b[0m\u001b[1m)\u001b[0m\u001b[1m]\u001b[0m.                                          \n",
      "\u001b[31mWARNING \u001b[0m Solver did not converge                                                                                   \n",
      "\u001b[34mINFO    \u001b[0m Solving problem OTProblem\u001b[1m[\u001b[0m\u001b[33mstage\u001b[0m=\u001b[32m'prepared'\u001b[0m, \u001b[33mshape\u001b[0m=\u001b[1m(\u001b[0m\u001b[1;36m5934\u001b[0m, \u001b[1;36m7083\u001b[0m\u001b[1m)\u001b[0m\u001b[1m]\u001b[0m.                                          \n",
      "\u001b[31mWARNING \u001b[0m Solver did not converge                                                                                   \n"
     ]
    }
   ],
   "source": [
    "ap = ap.solve(alpha=0.3)"
   ]
  },
  {
   "cell_type": "code",
   "execution_count": 13,
   "id": "d111f7b7-7edf-4ab8-a11e-fb35b35d5a62",
   "metadata": {},
   "outputs": [],
   "source": [
    "ap.save('/lustre/scratch126/cellgen/team283/yd2/whole_embryo/12052024_all_sections_no_cord_no_liver/CS17_Moscot_all_sections_nocord_noliver_alpha_03.pkl')"
   ]
  },
  {
   "cell_type": "code",
   "execution_count": 15,
   "id": "7e4e7496-049f-41c2-a774-e3c448286651",
   "metadata": {},
   "outputs": [],
   "source": [
    "adata.write_h5ad(\"/lustre/scratch126/cellgen/team283/yd2/whole_embryo/12052024_all_sections_no_cord_no_liver/all_sections_nocord_alpha_03.h5ad\")"
   ]
  },
  {
   "cell_type": "code",
   "execution_count": null,
   "id": "81c443e7-dda3-40f0-a8e1-85f26c8d10ba",
   "metadata": {},
   "outputs": [],
   "source": [
    "adata.obsm['spatial_affine_022']=ap.align(reference=\"section_022\", mode=\"affine\")[0]"
   ]
  },
  {
   "cell_type": "code",
   "execution_count": 20,
   "id": "dc4b90c5-2cb5-47ba-9d36-e88129e5d0c6",
   "metadata": {
    "tags": []
   },
   "outputs": [
    {
     "name": "stderr",
     "output_type": "stream",
     "text": [
      "/software/team283/tl7/miniconda3/envs/moscot/lib/python3.9/site-packages/squidpy/pl/_spatial_utils.py:747: FutureWarning: is_categorical_dtype is deprecated and will be removed in a future version. Use isinstance(dtype, CategoricalDtype) instead\n",
      "  if c is not None and c in adata.obs and is_categorical_dtype(adata.obs[c]):\n",
      "/software/team283/tl7/miniconda3/envs/moscot/lib/python3.9/site-packages/squidpy/pl/_spatial_utils.py:471: FutureWarning: is_categorical_dtype is deprecated and will be removed in a future version. Use isinstance(dtype, CategoricalDtype) instead\n",
      "  if not is_categorical_dtype(color_source_vector):\n",
      "/software/team283/tl7/miniconda3/envs/moscot/lib/python3.9/site-packages/squidpy/pl/_spatial_utils.py:483: FutureWarning: The default value of 'ignore' for the `na_action` parameter in pandas.Categorical.map is deprecated and will be changed to 'None' in a future version. Please set na_action to the desired value to avoid seeing this warning\n",
      "  color_vector = color_source_vector.map(color_map)\n",
      "/software/team283/tl7/miniconda3/envs/moscot/lib/python3.9/site-packages/squidpy/pl/_spatial_utils.py:649: FutureWarning: is_categorical_dtype is deprecated and will be removed in a future version. Use isinstance(dtype, CategoricalDtype) instead\n",
      "  if is_categorical_dtype(color_source_vector):\n"
     ]
    },
    {
     "data": {
      "image/png": "[encoded data removed]",
      "text/plain": [
       "<Figure size 640x480 with 1 Axes>"
      ]
     },
     "metadata": {},
     "output_type": "display_data"
    }
   ],
   "source": [
    "adata.obsm['spatial_affine_161']=ap.align(reference=\"section_161\", mode=\"affine\")[0]"
   ]
  },
  {
   "cell_type": "code",
   "execution_count": null,
   "id": "fdafd113-0714-413e-b729-6366464fbcbf",
   "metadata": {},
   "outputs": [],
   "source": [
    "adata.obsm['spatial_affine_165']=ap.align(reference=\"section_165\", mode=\"affine\")[0]"
   ]
  },
  {
   "cell_type": "code",
   "execution_count": null,
   "id": "af73f367-30b2-4ec6-a368-094cef39f919",
   "metadata": {},
   "outputs": [],
   "source": [
    "adata.obsm['spatial_affine_212']=ap.align(reference=\"section_212\", mode=\"affine\")[0]"
   ]
  },
  {
   "cell_type": "code",
   "execution_count": null,
   "id": "a5f31887-ee41-4590-bb90-e73f35170458",
   "metadata": {},
   "outputs": [],
   "source": [
    "adata.write_h5ad(\"/lustre/scratch126/cellgen/team283/yd2/whole_embryo/12052024_all_sections_no_cord_no_liver/all_sections_nocord_noliver_alpha_03_reference_022_212_161_165.h5ad\")"
   ]
  },
  {
   "cell_type": "code",
   "execution_count": null,
   "id": "b68bf6ce-17e2-45e7-b769-6886813af1f4",
   "metadata": {},
   "outputs": [],
   "source": []
  },
  {
   "cell_type": "code",
   "execution_count": null,
   "id": "b8277b41-e0e1-4943-bb99-2460fd8581d7",
   "metadata": {},
   "outputs": [],
   "source": []
  },
  {
   "cell_type": "code",
   "execution_count": null,
   "id": "6425dda1-2ffd-4139-b0bf-b95f3e686c2d",
   "metadata": {},
   "outputs": [],
   "source": []
  },
  {
   "cell_type": "code",
   "execution_count": null,
   "id": "300a515c-3ebe-45ba-928c-1af02636874b",
   "metadata": {},
   "outputs": [],
   "source": []
  },
  {
   "cell_type": "code",
   "execution_count": null,
   "id": "662ecd82-e836-4ad8-9827-f8207e50bda6",
   "metadata": {},
   "outputs": [],
   "source": []
  },
  {
   "cell_type": "code",
   "execution_count": null,
   "id": "caf1c403-83cf-47a5-9b9d-870efd1cbdb3",
   "metadata": {},
   "outputs": [],
   "source": []
  },
  {
   "cell_type": "code",
   "execution_count": null,
   "id": "83c9710e-1c1c-4247-b101-c6f5ca2b6c11",
   "metadata": {},
   "outputs": [],
   "source": []
  },
  {
   "cell_type": "code",
   "execution_count": null,
   "id": "9395c4e4-704e-4cbf-9a29-43b96ae11699",
   "metadata": {},
   "outputs": [],
   "source": []
  },
  {
   "cell_type": "code",
   "execution_count": null,
   "id": "f846d978-8b5d-4bc7-aacd-601590e185ae",
   "metadata": {},
   "outputs": [],
   "source": []
  },
  {
   "cell_type": "code",
   "execution_count": null,
   "id": "1e350c1c-9420-4ca8-99d9-c147f011c8f1",
   "metadata": {},
   "outputs": [],
   "source": []
  },
  {
   "cell_type": "code",
   "execution_count": null,
   "id": "85cac74a-73b5-4588-93bd-24374eea8524",
   "metadata": {},
   "outputs": [],
   "source": []
  }
 ],
 "metadata": {
  "kernelspec": {
   "display_name": "MOSCOT-env",
   "language": "python",
   "name": "moscot-env"
  },
  "language_info": {
   "codemirror_mode": {
    "name": "ipython",
    "version": 3
   },
   "file_extension": ".py",
   "mimetype": "text/x-python",
   "name": "python",
   "nbconvert_exporter": "python",
   "pygments_lexer": "ipython3",
   "version": "3.8.18"
  }
 },
 "nbformat": 4,
 "nbformat_minor": 5
}
